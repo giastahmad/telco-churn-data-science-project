{
 "cells": [
  {
   "cell_type": "markdown",
   "metadata": {},
   "source": [
    "# Imports "
   ]
  },
  {
   "cell_type": "code",
   "execution_count": 1,
   "metadata": {
    "execution": {
     "iopub.execute_input": "2025-06-26T06:16:35.347983Z",
     "iopub.status.busy": "2025-06-26T06:16:35.347699Z",
     "iopub.status.idle": "2025-06-26T06:16:45.929851Z",
     "shell.execute_reply": "2025-06-26T06:16:45.928783Z",
     "shell.execute_reply.started": "2025-06-26T06:16:35.347952Z"
    },
    "trusted": true
   },
   "outputs": [
    {
     "name": "stdout",
     "output_type": "stream",
     "text": [
      "Requirement already satisfied: scikit-learn in /usr/local/lib/python3.11/dist-packages (1.2.2)\n",
      "Collecting scikit-learn\n",
      "  Downloading scikit_learn-1.7.0-cp311-cp311-manylinux_2_17_x86_64.manylinux2014_x86_64.whl.metadata (17 kB)\n",
      "Requirement already satisfied: imbalanced-learn in /usr/local/lib/python3.11/dist-packages (0.13.0)\n",
      "Requirement already satisfied: numpy>=1.22.0 in /usr/local/lib/python3.11/dist-packages (from scikit-learn) (1.26.4)\n",
      "Requirement already satisfied: scipy>=1.8.0 in /usr/local/lib/python3.11/dist-packages (from scikit-learn) (1.15.2)\n",
      "Requirement already satisfied: joblib>=1.2.0 in /usr/local/lib/python3.11/dist-packages (from scikit-learn) (1.5.0)\n",
      "Requirement already satisfied: threadpoolctl>=3.1.0 in /usr/local/lib/python3.11/dist-packages (from scikit-learn) (3.6.0)\n",
      "Requirement already satisfied: sklearn-compat<1,>=0.1 in /usr/local/lib/python3.11/dist-packages (from imbalanced-learn) (0.1.3)\n",
      "Requirement already satisfied: mkl_fft in /usr/local/lib/python3.11/dist-packages (from numpy>=1.22.0->scikit-learn) (1.3.8)\n",
      "Requirement already satisfied: mkl_random in /usr/local/lib/python3.11/dist-packages (from numpy>=1.22.0->scikit-learn) (1.2.4)\n",
      "Requirement already satisfied: mkl_umath in /usr/local/lib/python3.11/dist-packages (from numpy>=1.22.0->scikit-learn) (0.1.1)\n",
      "Requirement already satisfied: mkl in /usr/local/lib/python3.11/dist-packages (from numpy>=1.22.0->scikit-learn) (2025.1.0)\n",
      "Requirement already satisfied: tbb4py in /usr/local/lib/python3.11/dist-packages (from numpy>=1.22.0->scikit-learn) (2022.1.0)\n",
      "Requirement already satisfied: mkl-service in /usr/local/lib/python3.11/dist-packages (from numpy>=1.22.0->scikit-learn) (2.4.1)\n",
      "  Downloading scikit_learn-1.6.1-cp311-cp311-manylinux_2_17_x86_64.manylinux2014_x86_64.whl.metadata (18 kB)\n",
      "Requirement already satisfied: intel-openmp<2026,>=2024 in /usr/local/lib/python3.11/dist-packages (from mkl->numpy>=1.22.0->scikit-learn) (2024.2.0)\n",
      "Requirement already satisfied: tbb==2022.* in /usr/local/lib/python3.11/dist-packages (from mkl->numpy>=1.22.0->scikit-learn) (2022.1.0)\n",
      "Requirement already satisfied: tcmlib==1.* in /usr/local/lib/python3.11/dist-packages (from tbb==2022.*->mkl->numpy>=1.22.0->scikit-learn) (1.3.0)\n",
      "Requirement already satisfied: intel-cmplr-lib-rt in /usr/local/lib/python3.11/dist-packages (from mkl_umath->numpy>=1.22.0->scikit-learn) (2024.2.0)\n",
      "Requirement already satisfied: intel-cmplr-lib-ur==2024.2.0 in /usr/local/lib/python3.11/dist-packages (from intel-openmp<2026,>=2024->mkl->numpy>=1.22.0->scikit-learn) (2024.2.0)\n",
      "Downloading scikit_learn-1.6.1-cp311-cp311-manylinux_2_17_x86_64.manylinux2014_x86_64.whl (13.5 MB)\n",
      "\u001b[2K   \u001b[90m━━━━━━━━━━━━━━━━━━━━━━━━━━━━━━━━━━━━━━━━\u001b[0m \u001b[32m13.5/13.5 MB\u001b[0m \u001b[31m73.9 MB/s\u001b[0m eta \u001b[36m0:00:00\u001b[0m:00:01\u001b[0m00:01\u001b[0m\n",
      "\u001b[?25hInstalling collected packages: scikit-learn\n",
      "  Attempting uninstall: scikit-learn\n",
      "    Found existing installation: scikit-learn 1.2.2\n",
      "    Uninstalling scikit-learn-1.2.2:\n",
      "      Successfully uninstalled scikit-learn-1.2.2\n",
      "\u001b[31mERROR: pip's dependency resolver does not currently take into account all the packages that are installed. This behaviour is the source of the following dependency conflicts.\n",
      "category-encoders 2.7.0 requires scikit-learn<1.6.0,>=1.0.0, but you have scikit-learn 1.6.1 which is incompatible.\n",
      "cesium 0.12.4 requires numpy<3.0,>=2.0, but you have numpy 1.26.4 which is incompatible.\u001b[0m\u001b[31m\n",
      "\u001b[0mSuccessfully installed scikit-learn-1.6.1\n"
     ]
    }
   ],
   "source": [
    "!pip install --upgrade scikit-learn imbalanced-learn"
   ]
  },
  {
   "cell_type": "code",
   "execution_count": 2,
   "metadata": {
    "_cell_guid": "b1076dfc-b9ad-4769-8c92-a6c4dae69d19",
    "_uuid": "8f2839f25d086af736a60e9eeb907d3b93b6e0e5",
    "execution": {
     "iopub.execute_input": "2025-06-26T06:16:45.932945Z",
     "iopub.status.busy": "2025-06-26T06:16:45.932688Z",
     "iopub.status.idle": "2025-06-26T06:17:13.273052Z",
     "shell.execute_reply": "2025-06-26T06:17:13.272283Z",
     "shell.execute_reply.started": "2025-06-26T06:16:45.932921Z"
    },
    "trusted": true
   },
   "outputs": [
    {
     "name": "stderr",
     "output_type": "stream",
     "text": [
      "2025-06-26 06:16:56.434675: E external/local_xla/xla/stream_executor/cuda/cuda_fft.cc:477] Unable to register cuFFT factory: Attempting to register factory for plugin cuFFT when one has already been registered\n",
      "WARNING: All log messages before absl::InitializeLog() is called are written to STDERR\n",
      "E0000 00:00:1750918616.746024      35 cuda_dnn.cc:8310] Unable to register cuDNN factory: Attempting to register factory for plugin cuDNN when one has already been registered\n",
      "E0000 00:00:1750918616.836162      35 cuda_blas.cc:1418] Unable to register cuBLAS factory: Attempting to register factory for plugin cuBLAS when one has already been registered\n"
     ]
    }
   ],
   "source": [
    "import numpy as np\n",
    "import pandas as pd\n",
    "\n",
    "import matplotlib.pyplot as plt\n",
    "import seaborn as sns\n",
    "import folium\n",
    "from folium import plugins\n",
    "\n",
    "from sklearn.model_selection import train_test_split, GridSearchCV\n",
    "from sklearn.preprocessing import StandardScaler\n",
    "from sklearn.linear_model import LogisticRegression\n",
    "from sklearn.metrics import accuracy_score, classification_report, confusion_matrix, recall_score, precision_score, f1_score, precision_recall_curve\n",
    "from sklearn.neighbors import KNeighborsClassifier\n",
    "from sklearn.tree import DecisionTreeClassifier\n",
    "from sklearn.ensemble import RandomForestClassifier,GradientBoostingClassifier, BaggingClassifier, ExtraTreesClassifier, AdaBoostClassifier\n",
    "from xgboost import XGBClassifier \n",
    "from catboost import CatBoostClassifier    \n",
    "from lightgbm import LGBMClassifier\n",
    "from sklearn.cluster import KMeans\n",
    "from imblearn.over_sampling import SMOTE\n",
    "\n",
    "import tensorflow as tf\n",
    "import keras_tuner as kt\n",
    "from tensorflow.keras.models import Sequential\n",
    "from tensorflow.keras.layers import Dense, Dropout, Input\n",
    "from tensorflow.keras.callbacks import EarlyStopping\n",
    "from tensorflow.keras.optimizers import Adam"
   ]
  },
  {
   "cell_type": "markdown",
   "metadata": {},
   "source": [
    "# Read Data"
   ]
  },
  {
   "cell_type": "code",
   "execution_count": 3,
   "metadata": {
    "execution": {
     "iopub.execute_input": "2025-06-26T06:17:13.277942Z",
     "iopub.status.busy": "2025-06-26T06:17:13.277378Z",
     "iopub.status.idle": "2025-06-26T06:17:16.277556Z",
     "shell.execute_reply": "2025-06-26T06:17:16.276753Z",
     "shell.execute_reply.started": "2025-06-26T06:17:13.277908Z"
    },
    "trusted": true
   },
   "outputs": [
    {
     "data": {
      "text/html": [
       "<div>\n",
       "<style scoped>\n",
       "    .dataframe tbody tr th:only-of-type {\n",
       "        vertical-align: middle;\n",
       "    }\n",
       "\n",
       "    .dataframe tbody tr th {\n",
       "        vertical-align: top;\n",
       "    }\n",
       "\n",
       "    .dataframe thead th {\n",
       "        text-align: right;\n",
       "    }\n",
       "</style>\n",
       "<table border=\"1\" class=\"dataframe\">\n",
       "  <thead>\n",
       "    <tr style=\"text-align: right;\">\n",
       "      <th></th>\n",
       "      <th>0</th>\n",
       "      <th>1</th>\n",
       "      <th>2</th>\n",
       "      <th>3</th>\n",
       "      <th>4</th>\n",
       "    </tr>\n",
       "  </thead>\n",
       "  <tbody>\n",
       "    <tr>\n",
       "      <th>CustomerID</th>\n",
       "      <td>3668-QPYBK</td>\n",
       "      <td>9237-HQITU</td>\n",
       "      <td>9305-CDSKC</td>\n",
       "      <td>7892-POOKP</td>\n",
       "      <td>0280-XJGEX</td>\n",
       "    </tr>\n",
       "    <tr>\n",
       "      <th>Count</th>\n",
       "      <td>1</td>\n",
       "      <td>1</td>\n",
       "      <td>1</td>\n",
       "      <td>1</td>\n",
       "      <td>1</td>\n",
       "    </tr>\n",
       "    <tr>\n",
       "      <th>Country</th>\n",
       "      <td>United States</td>\n",
       "      <td>United States</td>\n",
       "      <td>United States</td>\n",
       "      <td>United States</td>\n",
       "      <td>United States</td>\n",
       "    </tr>\n",
       "    <tr>\n",
       "      <th>State</th>\n",
       "      <td>California</td>\n",
       "      <td>California</td>\n",
       "      <td>California</td>\n",
       "      <td>California</td>\n",
       "      <td>California</td>\n",
       "    </tr>\n",
       "    <tr>\n",
       "      <th>City</th>\n",
       "      <td>Los Angeles</td>\n",
       "      <td>Los Angeles</td>\n",
       "      <td>Los Angeles</td>\n",
       "      <td>Los Angeles</td>\n",
       "      <td>Los Angeles</td>\n",
       "    </tr>\n",
       "    <tr>\n",
       "      <th>Zip Code</th>\n",
       "      <td>90003</td>\n",
       "      <td>90005</td>\n",
       "      <td>90006</td>\n",
       "      <td>90010</td>\n",
       "      <td>90015</td>\n",
       "    </tr>\n",
       "    <tr>\n",
       "      <th>Lat Long</th>\n",
       "      <td>33.964131, -118.272783</td>\n",
       "      <td>34.059281, -118.30742</td>\n",
       "      <td>34.048013, -118.293953</td>\n",
       "      <td>34.062125, -118.315709</td>\n",
       "      <td>34.039224, -118.266293</td>\n",
       "    </tr>\n",
       "    <tr>\n",
       "      <th>Latitude</th>\n",
       "      <td>33.964131</td>\n",
       "      <td>34.059281</td>\n",
       "      <td>34.048013</td>\n",
       "      <td>34.062125</td>\n",
       "      <td>34.039224</td>\n",
       "    </tr>\n",
       "    <tr>\n",
       "      <th>Longitude</th>\n",
       "      <td>-118.272783</td>\n",
       "      <td>-118.30742</td>\n",
       "      <td>-118.293953</td>\n",
       "      <td>-118.315709</td>\n",
       "      <td>-118.266293</td>\n",
       "    </tr>\n",
       "    <tr>\n",
       "      <th>Gender</th>\n",
       "      <td>Male</td>\n",
       "      <td>Female</td>\n",
       "      <td>Female</td>\n",
       "      <td>Female</td>\n",
       "      <td>Male</td>\n",
       "    </tr>\n",
       "    <tr>\n",
       "      <th>Senior Citizen</th>\n",
       "      <td>No</td>\n",
       "      <td>No</td>\n",
       "      <td>No</td>\n",
       "      <td>No</td>\n",
       "      <td>No</td>\n",
       "    </tr>\n",
       "    <tr>\n",
       "      <th>Partner</th>\n",
       "      <td>No</td>\n",
       "      <td>No</td>\n",
       "      <td>No</td>\n",
       "      <td>Yes</td>\n",
       "      <td>No</td>\n",
       "    </tr>\n",
       "    <tr>\n",
       "      <th>Dependents</th>\n",
       "      <td>No</td>\n",
       "      <td>Yes</td>\n",
       "      <td>Yes</td>\n",
       "      <td>Yes</td>\n",
       "      <td>Yes</td>\n",
       "    </tr>\n",
       "    <tr>\n",
       "      <th>Tenure Months</th>\n",
       "      <td>2</td>\n",
       "      <td>2</td>\n",
       "      <td>8</td>\n",
       "      <td>28</td>\n",
       "      <td>49</td>\n",
       "    </tr>\n",
       "    <tr>\n",
       "      <th>Phone Service</th>\n",
       "      <td>Yes</td>\n",
       "      <td>Yes</td>\n",
       "      <td>Yes</td>\n",
       "      <td>Yes</td>\n",
       "      <td>Yes</td>\n",
       "    </tr>\n",
       "    <tr>\n",
       "      <th>Multiple Lines</th>\n",
       "      <td>No</td>\n",
       "      <td>No</td>\n",
       "      <td>Yes</td>\n",
       "      <td>Yes</td>\n",
       "      <td>Yes</td>\n",
       "    </tr>\n",
       "    <tr>\n",
       "      <th>Internet Service</th>\n",
       "      <td>DSL</td>\n",
       "      <td>Fiber optic</td>\n",
       "      <td>Fiber optic</td>\n",
       "      <td>Fiber optic</td>\n",
       "      <td>Fiber optic</td>\n",
       "    </tr>\n",
       "    <tr>\n",
       "      <th>Online Security</th>\n",
       "      <td>Yes</td>\n",
       "      <td>No</td>\n",
       "      <td>No</td>\n",
       "      <td>No</td>\n",
       "      <td>No</td>\n",
       "    </tr>\n",
       "    <tr>\n",
       "      <th>Online Backup</th>\n",
       "      <td>Yes</td>\n",
       "      <td>No</td>\n",
       "      <td>No</td>\n",
       "      <td>No</td>\n",
       "      <td>Yes</td>\n",
       "    </tr>\n",
       "    <tr>\n",
       "      <th>Device Protection</th>\n",
       "      <td>No</td>\n",
       "      <td>No</td>\n",
       "      <td>Yes</td>\n",
       "      <td>Yes</td>\n",
       "      <td>Yes</td>\n",
       "    </tr>\n",
       "    <tr>\n",
       "      <th>Tech Support</th>\n",
       "      <td>No</td>\n",
       "      <td>No</td>\n",
       "      <td>No</td>\n",
       "      <td>Yes</td>\n",
       "      <td>No</td>\n",
       "    </tr>\n",
       "    <tr>\n",
       "      <th>Streaming TV</th>\n",
       "      <td>No</td>\n",
       "      <td>No</td>\n",
       "      <td>Yes</td>\n",
       "      <td>Yes</td>\n",
       "      <td>Yes</td>\n",
       "    </tr>\n",
       "    <tr>\n",
       "      <th>Streaming Movies</th>\n",
       "      <td>No</td>\n",
       "      <td>No</td>\n",
       "      <td>Yes</td>\n",
       "      <td>Yes</td>\n",
       "      <td>Yes</td>\n",
       "    </tr>\n",
       "    <tr>\n",
       "      <th>Contract</th>\n",
       "      <td>Month-to-month</td>\n",
       "      <td>Month-to-month</td>\n",
       "      <td>Month-to-month</td>\n",
       "      <td>Month-to-month</td>\n",
       "      <td>Month-to-month</td>\n",
       "    </tr>\n",
       "    <tr>\n",
       "      <th>Paperless Billing</th>\n",
       "      <td>Yes</td>\n",
       "      <td>Yes</td>\n",
       "      <td>Yes</td>\n",
       "      <td>Yes</td>\n",
       "      <td>Yes</td>\n",
       "    </tr>\n",
       "    <tr>\n",
       "      <th>Payment Method</th>\n",
       "      <td>Mailed check</td>\n",
       "      <td>Electronic check</td>\n",
       "      <td>Electronic check</td>\n",
       "      <td>Electronic check</td>\n",
       "      <td>Bank transfer (automatic)</td>\n",
       "    </tr>\n",
       "    <tr>\n",
       "      <th>Monthly Charges</th>\n",
       "      <td>53.85</td>\n",
       "      <td>70.7</td>\n",
       "      <td>99.65</td>\n",
       "      <td>104.8</td>\n",
       "      <td>103.7</td>\n",
       "    </tr>\n",
       "    <tr>\n",
       "      <th>Total Charges</th>\n",
       "      <td>108.15</td>\n",
       "      <td>151.65</td>\n",
       "      <td>820.5</td>\n",
       "      <td>3046.05</td>\n",
       "      <td>5036.3</td>\n",
       "    </tr>\n",
       "    <tr>\n",
       "      <th>Churn Label</th>\n",
       "      <td>Yes</td>\n",
       "      <td>Yes</td>\n",
       "      <td>Yes</td>\n",
       "      <td>Yes</td>\n",
       "      <td>Yes</td>\n",
       "    </tr>\n",
       "    <tr>\n",
       "      <th>Churn Value</th>\n",
       "      <td>1</td>\n",
       "      <td>1</td>\n",
       "      <td>1</td>\n",
       "      <td>1</td>\n",
       "      <td>1</td>\n",
       "    </tr>\n",
       "    <tr>\n",
       "      <th>Churn Score</th>\n",
       "      <td>86</td>\n",
       "      <td>67</td>\n",
       "      <td>86</td>\n",
       "      <td>84</td>\n",
       "      <td>89</td>\n",
       "    </tr>\n",
       "    <tr>\n",
       "      <th>CLTV</th>\n",
       "      <td>3239</td>\n",
       "      <td>2701</td>\n",
       "      <td>5372</td>\n",
       "      <td>5003</td>\n",
       "      <td>5340</td>\n",
       "    </tr>\n",
       "    <tr>\n",
       "      <th>Churn Reason</th>\n",
       "      <td>Competitor made better offer</td>\n",
       "      <td>Moved</td>\n",
       "      <td>Moved</td>\n",
       "      <td>Moved</td>\n",
       "      <td>Competitor had better devices</td>\n",
       "    </tr>\n",
       "  </tbody>\n",
       "</table>\n",
       "</div>"
      ],
      "text/plain": [
       "                                              0                      1  \\\n",
       "CustomerID                           3668-QPYBK             9237-HQITU   \n",
       "Count                                         1                      1   \n",
       "Country                           United States          United States   \n",
       "State                                California             California   \n",
       "City                                Los Angeles            Los Angeles   \n",
       "Zip Code                                  90003                  90005   \n",
       "Lat Long                 33.964131, -118.272783  34.059281, -118.30742   \n",
       "Latitude                              33.964131              34.059281   \n",
       "Longitude                           -118.272783             -118.30742   \n",
       "Gender                                     Male                 Female   \n",
       "Senior Citizen                               No                     No   \n",
       "Partner                                      No                     No   \n",
       "Dependents                                   No                    Yes   \n",
       "Tenure Months                                 2                      2   \n",
       "Phone Service                               Yes                    Yes   \n",
       "Multiple Lines                               No                     No   \n",
       "Internet Service                            DSL            Fiber optic   \n",
       "Online Security                             Yes                     No   \n",
       "Online Backup                               Yes                     No   \n",
       "Device Protection                            No                     No   \n",
       "Tech Support                                 No                     No   \n",
       "Streaming TV                                 No                     No   \n",
       "Streaming Movies                             No                     No   \n",
       "Contract                         Month-to-month         Month-to-month   \n",
       "Paperless Billing                           Yes                    Yes   \n",
       "Payment Method                     Mailed check       Electronic check   \n",
       "Monthly Charges                           53.85                   70.7   \n",
       "Total Charges                            108.15                 151.65   \n",
       "Churn Label                                 Yes                    Yes   \n",
       "Churn Value                                   1                      1   \n",
       "Churn Score                                  86                     67   \n",
       "CLTV                                       3239                   2701   \n",
       "Churn Reason       Competitor made better offer                  Moved   \n",
       "\n",
       "                                        2                       3  \\\n",
       "CustomerID                     9305-CDSKC              7892-POOKP   \n",
       "Count                                   1                       1   \n",
       "Country                     United States           United States   \n",
       "State                          California              California   \n",
       "City                          Los Angeles             Los Angeles   \n",
       "Zip Code                            90006                   90010   \n",
       "Lat Long           34.048013, -118.293953  34.062125, -118.315709   \n",
       "Latitude                        34.048013               34.062125   \n",
       "Longitude                     -118.293953             -118.315709   \n",
       "Gender                             Female                  Female   \n",
       "Senior Citizen                         No                      No   \n",
       "Partner                                No                     Yes   \n",
       "Dependents                            Yes                     Yes   \n",
       "Tenure Months                           8                      28   \n",
       "Phone Service                         Yes                     Yes   \n",
       "Multiple Lines                        Yes                     Yes   \n",
       "Internet Service              Fiber optic             Fiber optic   \n",
       "Online Security                        No                      No   \n",
       "Online Backup                          No                      No   \n",
       "Device Protection                     Yes                     Yes   \n",
       "Tech Support                           No                     Yes   \n",
       "Streaming TV                          Yes                     Yes   \n",
       "Streaming Movies                      Yes                     Yes   \n",
       "Contract                   Month-to-month          Month-to-month   \n",
       "Paperless Billing                     Yes                     Yes   \n",
       "Payment Method           Electronic check        Electronic check   \n",
       "Monthly Charges                     99.65                   104.8   \n",
       "Total Charges                       820.5                 3046.05   \n",
       "Churn Label                           Yes                     Yes   \n",
       "Churn Value                             1                       1   \n",
       "Churn Score                            86                      84   \n",
       "CLTV                                 5372                    5003   \n",
       "Churn Reason                        Moved                   Moved   \n",
       "\n",
       "                                               4  \n",
       "CustomerID                            0280-XJGEX  \n",
       "Count                                          1  \n",
       "Country                            United States  \n",
       "State                                 California  \n",
       "City                                 Los Angeles  \n",
       "Zip Code                                   90015  \n",
       "Lat Long                  34.039224, -118.266293  \n",
       "Latitude                               34.039224  \n",
       "Longitude                            -118.266293  \n",
       "Gender                                      Male  \n",
       "Senior Citizen                                No  \n",
       "Partner                                       No  \n",
       "Dependents                                   Yes  \n",
       "Tenure Months                                 49  \n",
       "Phone Service                                Yes  \n",
       "Multiple Lines                               Yes  \n",
       "Internet Service                     Fiber optic  \n",
       "Online Security                               No  \n",
       "Online Backup                                Yes  \n",
       "Device Protection                            Yes  \n",
       "Tech Support                                  No  \n",
       "Streaming TV                                 Yes  \n",
       "Streaming Movies                             Yes  \n",
       "Contract                          Month-to-month  \n",
       "Paperless Billing                            Yes  \n",
       "Payment Method         Bank transfer (automatic)  \n",
       "Monthly Charges                            103.7  \n",
       "Total Charges                             5036.3  \n",
       "Churn Label                                  Yes  \n",
       "Churn Value                                    1  \n",
       "Churn Score                                   89  \n",
       "CLTV                                        5340  \n",
       "Churn Reason       Competitor had better devices  "
      ]
     },
     "execution_count": 3,
     "metadata": {},
     "output_type": "execute_result"
    }
   ],
   "source": [
    "df = pd.read_excel('/kaggle/input/telco-customer-churn/Telco_customer_churn.xlsx')\n",
    "df.head().T"
   ]
  },
  {
   "cell_type": "code",
   "execution_count": 4,
   "metadata": {
    "execution": {
     "iopub.execute_input": "2025-06-26T06:17:16.280761Z",
     "iopub.status.busy": "2025-06-26T06:17:16.278441Z",
     "iopub.status.idle": "2025-06-26T06:17:16.322782Z",
     "shell.execute_reply": "2025-06-26T06:17:16.321886Z",
     "shell.execute_reply.started": "2025-06-26T06:17:16.280734Z"
    },
    "trusted": true
   },
   "outputs": [
    {
     "name": "stdout",
     "output_type": "stream",
     "text": [
      "<class 'pandas.core.frame.DataFrame'>\n",
      "RangeIndex: 7043 entries, 0 to 7042\n",
      "Data columns (total 33 columns):\n",
      " #   Column             Non-Null Count  Dtype  \n",
      "---  ------             --------------  -----  \n",
      " 0   CustomerID         7043 non-null   object \n",
      " 1   Count              7043 non-null   int64  \n",
      " 2   Country            7043 non-null   object \n",
      " 3   State              7043 non-null   object \n",
      " 4   City               7043 non-null   object \n",
      " 5   Zip Code           7043 non-null   int64  \n",
      " 6   Lat Long           7043 non-null   object \n",
      " 7   Latitude           7043 non-null   float64\n",
      " 8   Longitude          7043 non-null   float64\n",
      " 9   Gender             7043 non-null   object \n",
      " 10  Senior Citizen     7043 non-null   object \n",
      " 11  Partner            7043 non-null   object \n",
      " 12  Dependents         7043 non-null   object \n",
      " 13  Tenure Months      7043 non-null   int64  \n",
      " 14  Phone Service      7043 non-null   object \n",
      " 15  Multiple Lines     7043 non-null   object \n",
      " 16  Internet Service   7043 non-null   object \n",
      " 17  Online Security    7043 non-null   object \n",
      " 18  Online Backup      7043 non-null   object \n",
      " 19  Device Protection  7043 non-null   object \n",
      " 20  Tech Support       7043 non-null   object \n",
      " 21  Streaming TV       7043 non-null   object \n",
      " 22  Streaming Movies   7043 non-null   object \n",
      " 23  Contract           7043 non-null   object \n",
      " 24  Paperless Billing  7043 non-null   object \n",
      " 25  Payment Method     7043 non-null   object \n",
      " 26  Monthly Charges    7043 non-null   float64\n",
      " 27  Total Charges      7043 non-null   object \n",
      " 28  Churn Label        7043 non-null   object \n",
      " 29  Churn Value        7043 non-null   int64  \n",
      " 30  Churn Score        7043 non-null   int64  \n",
      " 31  CLTV               7043 non-null   int64  \n",
      " 32  Churn Reason       1869 non-null   object \n",
      "dtypes: float64(3), int64(6), object(24)\n",
      "memory usage: 1.8+ MB\n"
     ]
    }
   ],
   "source": [
    "df.info()"
   ]
  },
  {
   "cell_type": "code",
   "execution_count": 5,
   "metadata": {
    "execution": {
     "iopub.execute_input": "2025-06-26T06:17:16.324283Z",
     "iopub.status.busy": "2025-06-26T06:17:16.323859Z",
     "iopub.status.idle": "2025-06-26T06:17:16.360589Z",
     "shell.execute_reply": "2025-06-26T06:17:16.359803Z",
     "shell.execute_reply.started": "2025-06-26T06:17:16.324249Z"
    },
    "trusted": true
   },
   "outputs": [
    {
     "data": {
      "text/html": [
       "<div>\n",
       "<style scoped>\n",
       "    .dataframe tbody tr th:only-of-type {\n",
       "        vertical-align: middle;\n",
       "    }\n",
       "\n",
       "    .dataframe tbody tr th {\n",
       "        vertical-align: top;\n",
       "    }\n",
       "\n",
       "    .dataframe thead th {\n",
       "        text-align: right;\n",
       "    }\n",
       "</style>\n",
       "<table border=\"1\" class=\"dataframe\">\n",
       "  <thead>\n",
       "    <tr style=\"text-align: right;\">\n",
       "      <th></th>\n",
       "      <th>Count</th>\n",
       "      <th>Zip Code</th>\n",
       "      <th>Latitude</th>\n",
       "      <th>Longitude</th>\n",
       "      <th>Tenure Months</th>\n",
       "      <th>Monthly Charges</th>\n",
       "      <th>Churn Value</th>\n",
       "      <th>Churn Score</th>\n",
       "      <th>CLTV</th>\n",
       "    </tr>\n",
       "  </thead>\n",
       "  <tbody>\n",
       "    <tr>\n",
       "      <th>count</th>\n",
       "      <td>7043.0</td>\n",
       "      <td>7043.000000</td>\n",
       "      <td>7043.000000</td>\n",
       "      <td>7043.000000</td>\n",
       "      <td>7043.000000</td>\n",
       "      <td>7043.000000</td>\n",
       "      <td>7043.000000</td>\n",
       "      <td>7043.000000</td>\n",
       "      <td>7043.000000</td>\n",
       "    </tr>\n",
       "    <tr>\n",
       "      <th>mean</th>\n",
       "      <td>1.0</td>\n",
       "      <td>93521.964646</td>\n",
       "      <td>36.282441</td>\n",
       "      <td>-119.798880</td>\n",
       "      <td>32.371149</td>\n",
       "      <td>64.761692</td>\n",
       "      <td>0.265370</td>\n",
       "      <td>58.699418</td>\n",
       "      <td>4400.295755</td>\n",
       "    </tr>\n",
       "    <tr>\n",
       "      <th>std</th>\n",
       "      <td>0.0</td>\n",
       "      <td>1865.794555</td>\n",
       "      <td>2.455723</td>\n",
       "      <td>2.157889</td>\n",
       "      <td>24.559481</td>\n",
       "      <td>30.090047</td>\n",
       "      <td>0.441561</td>\n",
       "      <td>21.525131</td>\n",
       "      <td>1183.057152</td>\n",
       "    </tr>\n",
       "    <tr>\n",
       "      <th>min</th>\n",
       "      <td>1.0</td>\n",
       "      <td>90001.000000</td>\n",
       "      <td>32.555828</td>\n",
       "      <td>-124.301372</td>\n",
       "      <td>0.000000</td>\n",
       "      <td>18.250000</td>\n",
       "      <td>0.000000</td>\n",
       "      <td>5.000000</td>\n",
       "      <td>2003.000000</td>\n",
       "    </tr>\n",
       "    <tr>\n",
       "      <th>25%</th>\n",
       "      <td>1.0</td>\n",
       "      <td>92102.000000</td>\n",
       "      <td>34.030915</td>\n",
       "      <td>-121.815412</td>\n",
       "      <td>9.000000</td>\n",
       "      <td>35.500000</td>\n",
       "      <td>0.000000</td>\n",
       "      <td>40.000000</td>\n",
       "      <td>3469.000000</td>\n",
       "    </tr>\n",
       "    <tr>\n",
       "      <th>50%</th>\n",
       "      <td>1.0</td>\n",
       "      <td>93552.000000</td>\n",
       "      <td>36.391777</td>\n",
       "      <td>-119.730885</td>\n",
       "      <td>29.000000</td>\n",
       "      <td>70.350000</td>\n",
       "      <td>0.000000</td>\n",
       "      <td>61.000000</td>\n",
       "      <td>4527.000000</td>\n",
       "    </tr>\n",
       "    <tr>\n",
       "      <th>75%</th>\n",
       "      <td>1.0</td>\n",
       "      <td>95351.000000</td>\n",
       "      <td>38.224869</td>\n",
       "      <td>-118.043237</td>\n",
       "      <td>55.000000</td>\n",
       "      <td>89.850000</td>\n",
       "      <td>1.000000</td>\n",
       "      <td>75.000000</td>\n",
       "      <td>5380.500000</td>\n",
       "    </tr>\n",
       "    <tr>\n",
       "      <th>max</th>\n",
       "      <td>1.0</td>\n",
       "      <td>96161.000000</td>\n",
       "      <td>41.962127</td>\n",
       "      <td>-114.192901</td>\n",
       "      <td>72.000000</td>\n",
       "      <td>118.750000</td>\n",
       "      <td>1.000000</td>\n",
       "      <td>100.000000</td>\n",
       "      <td>6500.000000</td>\n",
       "    </tr>\n",
       "  </tbody>\n",
       "</table>\n",
       "</div>"
      ],
      "text/plain": [
       "        Count      Zip Code     Latitude    Longitude  Tenure Months  \\\n",
       "count  7043.0   7043.000000  7043.000000  7043.000000    7043.000000   \n",
       "mean      1.0  93521.964646    36.282441  -119.798880      32.371149   \n",
       "std       0.0   1865.794555     2.455723     2.157889      24.559481   \n",
       "min       1.0  90001.000000    32.555828  -124.301372       0.000000   \n",
       "25%       1.0  92102.000000    34.030915  -121.815412       9.000000   \n",
       "50%       1.0  93552.000000    36.391777  -119.730885      29.000000   \n",
       "75%       1.0  95351.000000    38.224869  -118.043237      55.000000   \n",
       "max       1.0  96161.000000    41.962127  -114.192901      72.000000   \n",
       "\n",
       "       Monthly Charges  Churn Value  Churn Score         CLTV  \n",
       "count      7043.000000  7043.000000  7043.000000  7043.000000  \n",
       "mean         64.761692     0.265370    58.699418  4400.295755  \n",
       "std          30.090047     0.441561    21.525131  1183.057152  \n",
       "min          18.250000     0.000000     5.000000  2003.000000  \n",
       "25%          35.500000     0.000000    40.000000  3469.000000  \n",
       "50%          70.350000     0.000000    61.000000  4527.000000  \n",
       "75%          89.850000     1.000000    75.000000  5380.500000  \n",
       "max         118.750000     1.000000   100.000000  6500.000000  "
      ]
     },
     "execution_count": 5,
     "metadata": {},
     "output_type": "execute_result"
    }
   ],
   "source": [
    "df.describe()"
   ]
  },
  {
   "cell_type": "code",
   "execution_count": 6,
   "metadata": {
    "execution": {
     "iopub.execute_input": "2025-06-26T06:17:16.363578Z",
     "iopub.status.busy": "2025-06-26T06:17:16.363299Z",
     "iopub.status.idle": "2025-06-26T06:17:16.380346Z",
     "shell.execute_reply": "2025-06-26T06:17:16.379456Z",
     "shell.execute_reply.started": "2025-06-26T06:17:16.363559Z"
    },
    "trusted": true
   },
   "outputs": [
    {
     "data": {
      "text/plain": [
       "CustomerID              0\n",
       "Count                   0\n",
       "Country                 0\n",
       "State                   0\n",
       "City                    0\n",
       "Zip Code                0\n",
       "Lat Long                0\n",
       "Latitude                0\n",
       "Longitude               0\n",
       "Gender                  0\n",
       "Senior Citizen          0\n",
       "Partner                 0\n",
       "Dependents              0\n",
       "Tenure Months           0\n",
       "Phone Service           0\n",
       "Multiple Lines          0\n",
       "Internet Service        0\n",
       "Online Security         0\n",
       "Online Backup           0\n",
       "Device Protection       0\n",
       "Tech Support            0\n",
       "Streaming TV            0\n",
       "Streaming Movies        0\n",
       "Contract                0\n",
       "Paperless Billing       0\n",
       "Payment Method          0\n",
       "Monthly Charges         0\n",
       "Total Charges           0\n",
       "Churn Label             0\n",
       "Churn Value             0\n",
       "Churn Score             0\n",
       "CLTV                    0\n",
       "Churn Reason         5174\n",
       "dtype: int64"
      ]
     },
     "execution_count": 6,
     "metadata": {},
     "output_type": "execute_result"
    }
   ],
   "source": [
    "df.isnull().sum()"
   ]
  },
  {
   "cell_type": "code",
   "execution_count": 7,
   "metadata": {
    "execution": {
     "iopub.execute_input": "2025-06-26T06:17:16.381565Z",
     "iopub.status.busy": "2025-06-26T06:17:16.381244Z",
     "iopub.status.idle": "2025-06-26T06:17:16.417300Z",
     "shell.execute_reply": "2025-06-26T06:17:16.416563Z",
     "shell.execute_reply.started": "2025-06-26T06:17:16.381533Z"
    },
    "trusted": true
   },
   "outputs": [
    {
     "data": {
      "text/plain": [
       "0"
      ]
     },
     "execution_count": 7,
     "metadata": {},
     "output_type": "execute_result"
    }
   ],
   "source": [
    "df.duplicated().sum()"
   ]
  },
  {
   "cell_type": "code",
   "execution_count": 8,
   "metadata": {
    "execution": {
     "iopub.execute_input": "2025-06-26T06:17:16.418473Z",
     "iopub.status.busy": "2025-06-26T06:17:16.418137Z",
     "iopub.status.idle": "2025-06-26T06:17:16.442773Z",
     "shell.execute_reply": "2025-06-26T06:17:16.441814Z",
     "shell.execute_reply.started": "2025-06-26T06:17:16.418441Z"
    },
    "trusted": true
   },
   "outputs": [
    {
     "name": "stdout",
     "output_type": "stream",
     "text": [
      "Columns that have only one value :\n",
      "['Count', 'Country', 'State']\n"
     ]
    }
   ],
   "source": [
    "sum_of_unique_value = df.nunique()\n",
    "constant_column = sum_of_unique_value[sum_of_unique_value == 1].index.tolist()\n",
    "\n",
    "print(\"Columns that have only one value :\")\n",
    "print(constant_column)"
   ]
  },
  {
   "cell_type": "markdown",
   "metadata": {},
   "source": [
    "# Data Cleaning"
   ]
  },
  {
   "cell_type": "code",
   "execution_count": 9,
   "metadata": {
    "execution": {
     "iopub.execute_input": "2025-06-26T06:17:16.444082Z",
     "iopub.status.busy": "2025-06-26T06:17:16.443743Z",
     "iopub.status.idle": "2025-06-26T06:17:16.455371Z",
     "shell.execute_reply": "2025-06-26T06:17:16.454390Z",
     "shell.execute_reply.started": "2025-06-26T06:17:16.444056Z"
    },
    "trusted": true
   },
   "outputs": [],
   "source": [
    "df.drop(columns=['CustomerID','Count','Churn Label','Country','State'],inplace=True)"
   ]
  },
  {
   "cell_type": "code",
   "execution_count": 10,
   "metadata": {
    "execution": {
     "iopub.execute_input": "2025-06-26T06:17:16.456793Z",
     "iopub.status.busy": "2025-06-26T06:17:16.456480Z",
     "iopub.status.idle": "2025-06-26T06:17:16.478091Z",
     "shell.execute_reply": "2025-06-26T06:17:16.477163Z",
     "shell.execute_reply.started": "2025-06-26T06:17:16.456767Z"
    },
    "trusted": true
   },
   "outputs": [],
   "source": [
    "df['Total Charges'] = pd.to_numeric(df['Total Charges'], errors='coerce')\n",
    "df['Total Charges'] = df['Total Charges'].fillna(0)"
   ]
  },
  {
   "cell_type": "code",
   "execution_count": 11,
   "metadata": {
    "execution": {
     "iopub.execute_input": "2025-06-26T06:17:16.479582Z",
     "iopub.status.busy": "2025-06-26T06:17:16.479216Z",
     "iopub.status.idle": "2025-06-26T06:17:16.505014Z",
     "shell.execute_reply": "2025-06-26T06:17:16.504124Z",
     "shell.execute_reply.started": "2025-06-26T06:17:16.479559Z"
    },
    "trusted": true
   },
   "outputs": [
    {
     "data": {
      "text/html": [
       "<div>\n",
       "<style scoped>\n",
       "    .dataframe tbody tr th:only-of-type {\n",
       "        vertical-align: middle;\n",
       "    }\n",
       "\n",
       "    .dataframe tbody tr th {\n",
       "        vertical-align: top;\n",
       "    }\n",
       "\n",
       "    .dataframe thead th {\n",
       "        text-align: right;\n",
       "    }\n",
       "</style>\n",
       "<table border=\"1\" class=\"dataframe\">\n",
       "  <thead>\n",
       "    <tr style=\"text-align: right;\">\n",
       "      <th></th>\n",
       "      <th>0</th>\n",
       "      <th>1</th>\n",
       "      <th>2</th>\n",
       "      <th>3</th>\n",
       "      <th>4</th>\n",
       "    </tr>\n",
       "  </thead>\n",
       "  <tbody>\n",
       "    <tr>\n",
       "      <th>City</th>\n",
       "      <td>Los Angeles</td>\n",
       "      <td>Los Angeles</td>\n",
       "      <td>Los Angeles</td>\n",
       "      <td>Los Angeles</td>\n",
       "      <td>Los Angeles</td>\n",
       "    </tr>\n",
       "    <tr>\n",
       "      <th>Zip Code</th>\n",
       "      <td>90003</td>\n",
       "      <td>90005</td>\n",
       "      <td>90006</td>\n",
       "      <td>90010</td>\n",
       "      <td>90015</td>\n",
       "    </tr>\n",
       "    <tr>\n",
       "      <th>Lat Long</th>\n",
       "      <td>33.964131, -118.272783</td>\n",
       "      <td>34.059281, -118.30742</td>\n",
       "      <td>34.048013, -118.293953</td>\n",
       "      <td>34.062125, -118.315709</td>\n",
       "      <td>34.039224, -118.266293</td>\n",
       "    </tr>\n",
       "    <tr>\n",
       "      <th>Latitude</th>\n",
       "      <td>33.964131</td>\n",
       "      <td>34.059281</td>\n",
       "      <td>34.048013</td>\n",
       "      <td>34.062125</td>\n",
       "      <td>34.039224</td>\n",
       "    </tr>\n",
       "    <tr>\n",
       "      <th>Longitude</th>\n",
       "      <td>-118.272783</td>\n",
       "      <td>-118.30742</td>\n",
       "      <td>-118.293953</td>\n",
       "      <td>-118.315709</td>\n",
       "      <td>-118.266293</td>\n",
       "    </tr>\n",
       "    <tr>\n",
       "      <th>Gender</th>\n",
       "      <td>Male</td>\n",
       "      <td>Female</td>\n",
       "      <td>Female</td>\n",
       "      <td>Female</td>\n",
       "      <td>Male</td>\n",
       "    </tr>\n",
       "    <tr>\n",
       "      <th>Senior Citizen</th>\n",
       "      <td>No</td>\n",
       "      <td>No</td>\n",
       "      <td>No</td>\n",
       "      <td>No</td>\n",
       "      <td>No</td>\n",
       "    </tr>\n",
       "    <tr>\n",
       "      <th>Partner</th>\n",
       "      <td>No</td>\n",
       "      <td>No</td>\n",
       "      <td>No</td>\n",
       "      <td>Yes</td>\n",
       "      <td>No</td>\n",
       "    </tr>\n",
       "    <tr>\n",
       "      <th>Dependents</th>\n",
       "      <td>No</td>\n",
       "      <td>Yes</td>\n",
       "      <td>Yes</td>\n",
       "      <td>Yes</td>\n",
       "      <td>Yes</td>\n",
       "    </tr>\n",
       "    <tr>\n",
       "      <th>Tenure Months</th>\n",
       "      <td>2</td>\n",
       "      <td>2</td>\n",
       "      <td>8</td>\n",
       "      <td>28</td>\n",
       "      <td>49</td>\n",
       "    </tr>\n",
       "    <tr>\n",
       "      <th>Phone Service</th>\n",
       "      <td>Yes</td>\n",
       "      <td>Yes</td>\n",
       "      <td>Yes</td>\n",
       "      <td>Yes</td>\n",
       "      <td>Yes</td>\n",
       "    </tr>\n",
       "    <tr>\n",
       "      <th>Multiple Lines</th>\n",
       "      <td>No</td>\n",
       "      <td>No</td>\n",
       "      <td>Yes</td>\n",
       "      <td>Yes</td>\n",
       "      <td>Yes</td>\n",
       "    </tr>\n",
       "    <tr>\n",
       "      <th>Internet Service</th>\n",
       "      <td>DSL</td>\n",
       "      <td>Fiber optic</td>\n",
       "      <td>Fiber optic</td>\n",
       "      <td>Fiber optic</td>\n",
       "      <td>Fiber optic</td>\n",
       "    </tr>\n",
       "    <tr>\n",
       "      <th>Online Security</th>\n",
       "      <td>Yes</td>\n",
       "      <td>No</td>\n",
       "      <td>No</td>\n",
       "      <td>No</td>\n",
       "      <td>No</td>\n",
       "    </tr>\n",
       "    <tr>\n",
       "      <th>Online Backup</th>\n",
       "      <td>Yes</td>\n",
       "      <td>No</td>\n",
       "      <td>No</td>\n",
       "      <td>No</td>\n",
       "      <td>Yes</td>\n",
       "    </tr>\n",
       "    <tr>\n",
       "      <th>Device Protection</th>\n",
       "      <td>No</td>\n",
       "      <td>No</td>\n",
       "      <td>Yes</td>\n",
       "      <td>Yes</td>\n",
       "      <td>Yes</td>\n",
       "    </tr>\n",
       "    <tr>\n",
       "      <th>Tech Support</th>\n",
       "      <td>No</td>\n",
       "      <td>No</td>\n",
       "      <td>No</td>\n",
       "      <td>Yes</td>\n",
       "      <td>No</td>\n",
       "    </tr>\n",
       "    <tr>\n",
       "      <th>Streaming TV</th>\n",
       "      <td>No</td>\n",
       "      <td>No</td>\n",
       "      <td>Yes</td>\n",
       "      <td>Yes</td>\n",
       "      <td>Yes</td>\n",
       "    </tr>\n",
       "    <tr>\n",
       "      <th>Streaming Movies</th>\n",
       "      <td>No</td>\n",
       "      <td>No</td>\n",
       "      <td>Yes</td>\n",
       "      <td>Yes</td>\n",
       "      <td>Yes</td>\n",
       "    </tr>\n",
       "    <tr>\n",
       "      <th>Contract</th>\n",
       "      <td>Month-to-month</td>\n",
       "      <td>Month-to-month</td>\n",
       "      <td>Month-to-month</td>\n",
       "      <td>Month-to-month</td>\n",
       "      <td>Month-to-month</td>\n",
       "    </tr>\n",
       "    <tr>\n",
       "      <th>Paperless Billing</th>\n",
       "      <td>Yes</td>\n",
       "      <td>Yes</td>\n",
       "      <td>Yes</td>\n",
       "      <td>Yes</td>\n",
       "      <td>Yes</td>\n",
       "    </tr>\n",
       "    <tr>\n",
       "      <th>Payment Method</th>\n",
       "      <td>Mailed check</td>\n",
       "      <td>Electronic check</td>\n",
       "      <td>Electronic check</td>\n",
       "      <td>Electronic check</td>\n",
       "      <td>Bank transfer (automatic)</td>\n",
       "    </tr>\n",
       "    <tr>\n",
       "      <th>Monthly Charges</th>\n",
       "      <td>53.85</td>\n",
       "      <td>70.7</td>\n",
       "      <td>99.65</td>\n",
       "      <td>104.8</td>\n",
       "      <td>103.7</td>\n",
       "    </tr>\n",
       "    <tr>\n",
       "      <th>Total Charges</th>\n",
       "      <td>108.15</td>\n",
       "      <td>151.65</td>\n",
       "      <td>820.5</td>\n",
       "      <td>3046.05</td>\n",
       "      <td>5036.3</td>\n",
       "    </tr>\n",
       "    <tr>\n",
       "      <th>Churn Value</th>\n",
       "      <td>1</td>\n",
       "      <td>1</td>\n",
       "      <td>1</td>\n",
       "      <td>1</td>\n",
       "      <td>1</td>\n",
       "    </tr>\n",
       "    <tr>\n",
       "      <th>Churn Score</th>\n",
       "      <td>86</td>\n",
       "      <td>67</td>\n",
       "      <td>86</td>\n",
       "      <td>84</td>\n",
       "      <td>89</td>\n",
       "    </tr>\n",
       "    <tr>\n",
       "      <th>CLTV</th>\n",
       "      <td>3239</td>\n",
       "      <td>2701</td>\n",
       "      <td>5372</td>\n",
       "      <td>5003</td>\n",
       "      <td>5340</td>\n",
       "    </tr>\n",
       "    <tr>\n",
       "      <th>Churn Reason</th>\n",
       "      <td>Competitor made better offer</td>\n",
       "      <td>Moved</td>\n",
       "      <td>Moved</td>\n",
       "      <td>Moved</td>\n",
       "      <td>Competitor had better devices</td>\n",
       "    </tr>\n",
       "  </tbody>\n",
       "</table>\n",
       "</div>"
      ],
      "text/plain": [
       "                                              0                      1  \\\n",
       "City                                Los Angeles            Los Angeles   \n",
       "Zip Code                                  90003                  90005   \n",
       "Lat Long                 33.964131, -118.272783  34.059281, -118.30742   \n",
       "Latitude                              33.964131              34.059281   \n",
       "Longitude                           -118.272783             -118.30742   \n",
       "Gender                                     Male                 Female   \n",
       "Senior Citizen                               No                     No   \n",
       "Partner                                      No                     No   \n",
       "Dependents                                   No                    Yes   \n",
       "Tenure Months                                 2                      2   \n",
       "Phone Service                               Yes                    Yes   \n",
       "Multiple Lines                               No                     No   \n",
       "Internet Service                            DSL            Fiber optic   \n",
       "Online Security                             Yes                     No   \n",
       "Online Backup                               Yes                     No   \n",
       "Device Protection                            No                     No   \n",
       "Tech Support                                 No                     No   \n",
       "Streaming TV                                 No                     No   \n",
       "Streaming Movies                             No                     No   \n",
       "Contract                         Month-to-month         Month-to-month   \n",
       "Paperless Billing                           Yes                    Yes   \n",
       "Payment Method                     Mailed check       Electronic check   \n",
       "Monthly Charges                           53.85                   70.7   \n",
       "Total Charges                            108.15                 151.65   \n",
       "Churn Value                                   1                      1   \n",
       "Churn Score                                  86                     67   \n",
       "CLTV                                       3239                   2701   \n",
       "Churn Reason       Competitor made better offer                  Moved   \n",
       "\n",
       "                                        2                       3  \\\n",
       "City                          Los Angeles             Los Angeles   \n",
       "Zip Code                            90006                   90010   \n",
       "Lat Long           34.048013, -118.293953  34.062125, -118.315709   \n",
       "Latitude                        34.048013               34.062125   \n",
       "Longitude                     -118.293953             -118.315709   \n",
       "Gender                             Female                  Female   \n",
       "Senior Citizen                         No                      No   \n",
       "Partner                                No                     Yes   \n",
       "Dependents                            Yes                     Yes   \n",
       "Tenure Months                           8                      28   \n",
       "Phone Service                         Yes                     Yes   \n",
       "Multiple Lines                        Yes                     Yes   \n",
       "Internet Service              Fiber optic             Fiber optic   \n",
       "Online Security                        No                      No   \n",
       "Online Backup                          No                      No   \n",
       "Device Protection                     Yes                     Yes   \n",
       "Tech Support                           No                     Yes   \n",
       "Streaming TV                          Yes                     Yes   \n",
       "Streaming Movies                      Yes                     Yes   \n",
       "Contract                   Month-to-month          Month-to-month   \n",
       "Paperless Billing                     Yes                     Yes   \n",
       "Payment Method           Electronic check        Electronic check   \n",
       "Monthly Charges                     99.65                   104.8   \n",
       "Total Charges                       820.5                 3046.05   \n",
       "Churn Value                             1                       1   \n",
       "Churn Score                            86                      84   \n",
       "CLTV                                 5372                    5003   \n",
       "Churn Reason                        Moved                   Moved   \n",
       "\n",
       "                                               4  \n",
       "City                                 Los Angeles  \n",
       "Zip Code                                   90015  \n",
       "Lat Long                  34.039224, -118.266293  \n",
       "Latitude                               34.039224  \n",
       "Longitude                            -118.266293  \n",
       "Gender                                      Male  \n",
       "Senior Citizen                                No  \n",
       "Partner                                       No  \n",
       "Dependents                                   Yes  \n",
       "Tenure Months                                 49  \n",
       "Phone Service                                Yes  \n",
       "Multiple Lines                               Yes  \n",
       "Internet Service                     Fiber optic  \n",
       "Online Security                               No  \n",
       "Online Backup                                Yes  \n",
       "Device Protection                            Yes  \n",
       "Tech Support                                  No  \n",
       "Streaming TV                                 Yes  \n",
       "Streaming Movies                             Yes  \n",
       "Contract                          Month-to-month  \n",
       "Paperless Billing                            Yes  \n",
       "Payment Method         Bank transfer (automatic)  \n",
       "Monthly Charges                            103.7  \n",
       "Total Charges                             5036.3  \n",
       "Churn Value                                    1  \n",
       "Churn Score                                   89  \n",
       "CLTV                                        5340  \n",
       "Churn Reason       Competitor had better devices  "
      ]
     },
     "execution_count": 11,
     "metadata": {},
     "output_type": "execute_result"
    }
   ],
   "source": [
    "df.head().T"
   ]
  },
  {
   "cell_type": "markdown",
   "metadata": {},
   "source": [
    "# Exploratory Data Analysis - EDA"
   ]
  },
  {
   "cell_type": "code",
   "execution_count": 12,
   "metadata": {
    "execution": {
     "iopub.execute_input": "2025-06-26T06:17:16.506366Z",
     "iopub.status.busy": "2025-06-26T06:17:16.506024Z",
     "iopub.status.idle": "2025-06-26T06:17:16.789655Z",
     "shell.execute_reply": "2025-06-26T06:17:16.788697Z",
     "shell.execute_reply.started": "2025-06-26T06:17:16.506339Z"
    },
    "trusted": true
   },
   "outputs": [
    {
     "data": {
      "image/png": "[encoded data removed]",
      "text/plain": [
       "<Figure size 800x600 with 1 Axes>"
      ]
     },
     "metadata": {},
     "output_type": "display_data"
    }
   ],
   "source": [
    "churn_by_gender = df.groupby('Gender')['Churn Value'].value_counts(normalize=True).unstack()\n",
    "churn_rate = churn_by_gender[1] * 100\n",
    "\n",
    "plt.style.use('seaborn-v0_8-whitegrid')\n",
    "fig, ax = plt.subplots(figsize=(8, 6))\n",
    "\n",
    "bars = sns.barplot(x=churn_rate.index, y=churn_rate.values, palette=['#FF69B4', '#4A90E2'], ax=ax)\n",
    "\n",
    "for bar in bars.patches:\n",
    "    ax.annotate(f'{bar.get_height():.2f}%',\n",
    "                    (bar.get_x() + bar.get_width() / 2, bar.get_height()),\n",
    "                    ha='center', va='center',\n",
    "                    size=12, xytext=(0, 8),\n",
    "                    textcoords='offset points')\n",
    "\n",
    "ax.set_title('Customer Churn Rate By Gender', fontsize=16, fontweight='bold')\n",
    "ax.set_xlabel('Gender', fontsize=12)\n",
    "ax.set_ylabel('Churn Rate (%)', fontsize=12)\n",
    "ax.set_ylim(0, churn_rate.max() * 1.2)\n",
    "\n",
    "plt.show()"
   ]
  },
  {
   "cell_type": "markdown",
   "metadata": {},
   "source": [
    "Rate of Males and Females nearly equal"
   ]
  },
  {
   "cell_type": "code",
   "execution_count": 13,
   "metadata": {
    "execution": {
     "iopub.execute_input": "2025-06-26T06:17:16.790773Z",
     "iopub.status.busy": "2025-06-26T06:17:16.790525Z",
     "iopub.status.idle": "2025-06-26T06:17:17.075938Z",
     "shell.execute_reply": "2025-06-26T06:17:17.074806Z",
     "shell.execute_reply.started": "2025-06-26T06:17:16.790754Z"
    },
    "trusted": true
   },
   "outputs": [
    {
     "data": {
      "image/png": "[encoded data removed]",
      "text/plain": [
       "<Figure size 1200x800 with 1 Axes>"
      ]
     },
     "metadata": {},
     "output_type": "display_data"
    }
   ],
   "source": [
    "df_churn = df[df['Churn Value'] == 1].copy()\n",
    "\n",
    "service_prevalence = {}\n",
    "\n",
    "service_prevalence['Phone Service'] = (df_churn['Phone Service'] == 'Yes').mean()\n",
    "service_prevalence['Internet: Fiber Optic'] = (df_churn['Internet Service'] == 'Fiber optic').mean()\n",
    "service_prevalence['Internet: DSL'] = (df_churn['Internet Service'] == 'DSL').mean()\n",
    "service_prevalence['Streaming TV'] = (df_churn['Streaming TV'] == 'Yes').mean()\n",
    "service_prevalence['Streaming Movies'] = (df_churn['Streaming Movies'] == 'Yes').mean()\n",
    "service_prevalence['Device Protection'] = (df_churn['Device Protection'] == 'Yes').mean()\n",
    "service_prevalence['Online Backup'] = (df_churn['Online Backup'] == 'Yes').mean()\n",
    "service_prevalence['Tech Support'] = (df_churn['Tech Support'] == 'Yes').mean()\n",
    "service_prevalence['Online Security'] = (df_churn['Online Security'] == 'Yes').mean()\n",
    "\n",
    "\n",
    "service_df = pd.DataFrame(list(service_prevalence.items()), columns=['Service', 'Prevalence'])\n",
    "service_df = service_df.sort_values(by='Prevalence', ascending=False)\n",
    "\n",
    "plt.style.use('seaborn-v0_8-whitegrid')\n",
    "plt.figure(figsize=(12, 8))\n",
    "ax = sns.barplot(x='Prevalence', y='Service', data=service_df, palette='viridis')\n",
    "\n",
    "for p in ax.patches:\n",
    "    width = p.get_width()\n",
    "    ax.text(width + 0.01,\n",
    "            p.get_y() + p.get_height() / 2,\n",
    "            f'{width:.1%}',\n",
    "            va='center',\n",
    "            fontsize=11)\n",
    "\n",
    "plt.title('Prevalence of Service Among Churned Customers', fontsize=16, fontweight='bold')\n",
    "plt.xlabel('Percentage of Ownership (%)', fontsize=12)\n",
    "plt.ylabel('Services', fontsize=12)\n",
    "plt.xlim(0, 1)\n",
    "plt.tight_layout()\n",
    "\n",
    "plt.show()"
   ]
  },
  {
   "cell_type": "markdown",
   "metadata": {},
   "source": [
    "The majority of users who churn are telephone service customers."
   ]
  },
  {
   "cell_type": "code",
   "execution_count": 14,
   "metadata": {
    "execution": {
     "iopub.execute_input": "2025-06-26T06:17:17.077498Z",
     "iopub.status.busy": "2025-06-26T06:17:17.077062Z",
     "iopub.status.idle": "2025-06-26T06:17:17.290737Z",
     "shell.execute_reply": "2025-06-26T06:17:17.289711Z",
     "shell.execute_reply.started": "2025-06-26T06:17:17.077476Z"
    },
    "trusted": true
   },
   "outputs": [
    {
     "data": {
      "image/png": "[encoded data removed]",
      "text/plain": [
       "<Figure size 1000x600 with 1 Axes>"
      ]
     },
     "metadata": {},
     "output_type": "display_data"
    }
   ],
   "source": [
    "churn_by_contract = df.groupby('Contract')['Churn Value'].mean() * 100\n",
    "    \n",
    "churn_by_contract = churn_by_contract.sort_values(ascending=False).reset_index()\n",
    "churn_by_contract.rename(columns={'Churn Value': 'Churn Rate (%)'}, inplace=True)\n",
    "\n",
    "plt.style.use('seaborn-v0_8-whitegrid')\n",
    "plt.figure(figsize=(10, 6))\n",
    "ax = sns.barplot(x='Contract', y='Churn Rate (%)', data=churn_by_contract, palette='magma')\n",
    "\n",
    "for p in ax.patches:\n",
    "    height = p.get_height()\n",
    "    ax.text(p.get_x() + p.get_width() / 2.,\n",
    "            height + 1,\n",
    "            f'{height:.1f}%',\n",
    "            ha=\"center\",\n",
    "            fontsize=12)\n",
    "\n",
    "ax.set_title('Customer Churn Rate By Contract Type', fontsize=16, fontweight='bold')\n",
    "ax.set_xlabel('Contract Type', fontsize=12)\n",
    "ax.set_ylabel('Churn Rate (%)', fontsize=12)\n",
    "ax.set_ylim(0, churn_by_contract['Churn Rate (%)'].max() * 1.15)\n",
    "\n",
    "plt.tight_layout()\n",
    "plt.show()"
   ]
  },
  {
   "cell_type": "markdown",
   "metadata": {},
   "source": [
    "Customers on Monthly contracts are significantly more prone to churn."
   ]
  },
  {
   "cell_type": "code",
   "execution_count": 15,
   "metadata": {
    "execution": {
     "iopub.execute_input": "2025-06-26T06:17:17.292856Z",
     "iopub.status.busy": "2025-06-26T06:17:17.291838Z",
     "iopub.status.idle": "2025-06-26T06:17:17.552931Z",
     "shell.execute_reply": "2025-06-26T06:17:17.552005Z",
     "shell.execute_reply.started": "2025-06-26T06:17:17.292819Z"
    },
    "trusted": true
   },
   "outputs": [
    {
     "data": {
      "image/png": "[encoded data removed]",
      "text/plain": [
       "<Figure size 1200x600 with 1 Axes>"
      ]
     },
     "metadata": {},
     "output_type": "display_data"
    }
   ],
   "source": [
    "top_10_Cities = df.City.value_counts().head(10)\n",
    "\n",
    "plt.figure(figsize=(12,6))\n",
    "plt.style.use('ggplot')\n",
    "sns.barplot(x=top_10_Cities.index, y=top_10_Cities.values, palette='viridis')  \n",
    "plt.title('Top 10 Cities')\n",
    "plt.xlabel('City')\n",
    "for i, count in enumerate(top_10_Cities.values):\n",
    "    plt.text(i, count + 15, str(count), ha='center')  \n",
    "plt.xticks(rotation=45)  \n",
    "plt.show()"
   ]
  },
  {
   "cell_type": "markdown",
   "metadata": {},
   "source": [
    "The majority of customer churn comes from Los Angeles."
   ]
  },
  {
   "cell_type": "code",
   "execution_count": 16,
   "metadata": {
    "execution": {
     "iopub.execute_input": "2025-06-26T06:17:17.554366Z",
     "iopub.status.busy": "2025-06-26T06:17:17.554047Z",
     "iopub.status.idle": "2025-06-26T06:17:17.718017Z",
     "shell.execute_reply": "2025-06-26T06:17:17.717172Z",
     "shell.execute_reply.started": "2025-06-26T06:17:17.554344Z"
    },
    "trusted": true
   },
   "outputs": [
    {
     "data": {
      "image/png": "[encoded data removed]",
      "text/plain": [
       "<Figure size 1000x600 with 1 Axes>"
      ]
     },
     "metadata": {},
     "output_type": "display_data"
    }
   ],
   "source": [
    "counts = df['Senior Citizen'].value_counts()\n",
    "\n",
    "plt.figure(figsize=(10,6))\n",
    "plt.style.use('seaborn-v0_8-pastel')\n",
    "ax = sns.barplot(x=counts.index, y=counts.values, palette='viridis')\n",
    "for i in range(len(counts)):\n",
    "    plt.text(i, counts.values[i] + 0.5, str(counts.values[i]), ha='center', va='bottom')\n",
    "\n",
    "plt.xlabel('Senior Citizen')\n",
    "plt.title('Customer Distribution Based on Senior Citizen Status')\n",
    "plt.show()"
   ]
  },
  {
   "cell_type": "markdown",
   "metadata": {},
   "source": [
    "The majority of customers are not senior citizens."
   ]
  },
  {
   "cell_type": "code",
   "execution_count": 17,
   "metadata": {
    "execution": {
     "iopub.execute_input": "2025-06-26T06:17:17.719648Z",
     "iopub.status.busy": "2025-06-26T06:17:17.718892Z",
     "iopub.status.idle": "2025-06-26T06:17:18.044107Z",
     "shell.execute_reply": "2025-06-26T06:17:18.043180Z",
     "shell.execute_reply.started": "2025-06-26T06:17:17.719621Z"
    },
    "trusted": true
   },
   "outputs": [
    {
     "name": "stderr",
     "output_type": "stream",
     "text": [
      "/usr/local/lib/python3.11/dist-packages/seaborn/_oldcore.py:1119: FutureWarning: use_inf_as_na option is deprecated and will be removed in a future version. Convert inf values to NaN before operating instead.\n",
      "  with pd.option_context('mode.use_inf_as_na', True):\n"
     ]
    },
    {
     "data": {
      "image/png": "[encoded data removed]",
      "text/plain": [
       "<Figure size 1000x600 with 1 Axes>"
      ]
     },
     "metadata": {},
     "output_type": "display_data"
    }
   ],
   "source": [
    "plt.figure(figsize=(10, 6))\n",
    "plt.style.use('ggplot')\n",
    "sns.histplot(\n",
    "    df['Monthly Charges'], \n",
    "    bins=30, \n",
    "    kde=True,\n",
    ")\n",
    "plt.title('Monthly Charges')\n",
    "plt.xlabel('Value')\n",
    "plt.ylabel('Fequency')\n",
    "plt.show()"
   ]
  },
  {
   "cell_type": "markdown",
   "metadata": {},
   "source": [
    "Most customers only pay relatively low bills."
   ]
  },
  {
   "cell_type": "code",
   "execution_count": 18,
   "metadata": {
    "execution": {
     "iopub.execute_input": "2025-06-26T06:17:18.045733Z",
     "iopub.status.busy": "2025-06-26T06:17:18.045405Z",
     "iopub.status.idle": "2025-06-26T06:17:18.433893Z",
     "shell.execute_reply": "2025-06-26T06:17:18.433054Z",
     "shell.execute_reply.started": "2025-06-26T06:17:18.045702Z"
    },
    "trusted": true
   },
   "outputs": [
    {
     "data": {
      "image/png": "[encoded data removed]",
      "text/plain": [
       "<Figure size 1400x700 with 1 Axes>"
      ]
     },
     "metadata": {},
     "output_type": "display_data"
    }
   ],
   "source": [
    "plt.figure(figsize=(14,7))\n",
    "plt.style.use('seaborn-v0_8-pastel')\n",
    "sns.barplot(y=df['Churn Reason'].value_counts().index, x=df['Churn Reason'].value_counts().values, palette='viridis')  \n",
    "plt.title('Churn Reason', fontsize=16, weight='bold', pad=20)\n",
    "for i, count in enumerate(df['Churn Reason'].value_counts().values):\n",
    "    plt.text(count + 1, i, str(count), va='center') \n",
    "plt.show()"
   ]
  },
  {
   "cell_type": "markdown",
   "metadata": {},
   "source": [
    "The majority of users churned due to poor customer service and more attractive competitor offers."
   ]
  },
  {
   "cell_type": "markdown",
   "metadata": {},
   "source": [
    "# Data Prepocessing"
   ]
  },
  {
   "cell_type": "code",
   "execution_count": 19,
   "metadata": {
    "execution": {
     "iopub.execute_input": "2025-06-26T06:17:18.435379Z",
     "iopub.status.busy": "2025-06-26T06:17:18.435001Z",
     "iopub.status.idle": "2025-06-26T06:17:18.442753Z",
     "shell.execute_reply": "2025-06-26T06:17:18.441935Z",
     "shell.execute_reply.started": "2025-06-26T06:17:18.435352Z"
    },
    "trusted": true
   },
   "outputs": [],
   "source": [
    "df.drop(columns=['Churn Score','Gender','Latitude', 'Longitude','Churn Reason','City','Zip Code','Lat Long','CLTV','Total Charges','Phone Service','Multiple Lines'],inplace=True)"
   ]
  },
  {
   "cell_type": "code",
   "execution_count": 20,
   "metadata": {
    "execution": {
     "iopub.execute_input": "2025-06-26T06:17:18.443929Z",
     "iopub.status.busy": "2025-06-26T06:17:18.443678Z",
     "iopub.status.idle": "2025-06-26T06:17:18.472273Z",
     "shell.execute_reply": "2025-06-26T06:17:18.471340Z",
     "shell.execute_reply.started": "2025-06-26T06:17:18.443912Z"
    },
    "trusted": true
   },
   "outputs": [],
   "source": [
    "binary_column = ['Senior Citizen', 'Partner', 'Dependents', 'Paperless Billing']\n",
    "for col in binary_column:\n",
    "    df[col] = df[col].map({'Yes': 1, 'No': 0})"
   ]
  },
  {
   "cell_type": "code",
   "execution_count": 21,
   "metadata": {
    "execution": {
     "iopub.execute_input": "2025-06-26T06:17:18.478845Z",
     "iopub.status.busy": "2025-06-26T06:17:18.478179Z",
     "iopub.status.idle": "2025-06-26T06:17:18.505056Z",
     "shell.execute_reply": "2025-06-26T06:17:18.503884Z",
     "shell.execute_reply.started": "2025-06-26T06:17:18.478818Z"
    },
    "trusted": true
   },
   "outputs": [],
   "source": [
    "cols_to_modify = [\n",
    "    'Online Security', 'Online Backup', \n",
    "    'Device Protection', 'Tech Support', 'Streaming TV', 'Streaming Movies'\n",
    "]\n",
    "\n",
    "for col in cols_to_modify:\n",
    "    df[col] = df[col].replace('No internet service', 'No')"
   ]
  },
  {
   "cell_type": "code",
   "execution_count": 22,
   "metadata": {
    "execution": {
     "iopub.execute_input": "2025-06-26T06:17:18.506285Z",
     "iopub.status.busy": "2025-06-26T06:17:18.505939Z",
     "iopub.status.idle": "2025-06-26T06:17:18.526256Z",
     "shell.execute_reply": "2025-06-26T06:17:18.525136Z",
     "shell.execute_reply.started": "2025-06-26T06:17:18.506253Z"
    },
    "trusted": true
   },
   "outputs": [],
   "source": [
    "multicategory_column = ['Internet Service', \n",
    "                        'Online Security', 'Online Backup', 'Device Protection', \n",
    "                        'Tech Support', 'Streaming TV', 'Streaming Movies']\n",
    "df = pd.get_dummies(df, columns=multicategory_column, drop_first=True)"
   ]
  },
  {
   "cell_type": "code",
   "execution_count": 23,
   "metadata": {
    "execution": {
     "iopub.execute_input": "2025-06-26T06:17:18.528256Z",
     "iopub.status.busy": "2025-06-26T06:17:18.527651Z",
     "iopub.status.idle": "2025-06-26T06:17:18.539517Z",
     "shell.execute_reply": "2025-06-26T06:17:18.538300Z",
     "shell.execute_reply.started": "2025-06-26T06:17:18.528203Z"
    },
    "trusted": true
   },
   "outputs": [],
   "source": [
    "additional_services_cols = [\n",
    "    'Online Security_Yes', \n",
    "    'Online Backup_Yes', \n",
    "    'Device Protection_Yes',\n",
    "    'Tech Support_Yes', \n",
    "    'Streaming TV_Yes', \n",
    "    'Streaming Movies_Yes'\n",
    "]\n",
    "\n",
    "df['Sum Of Additional Services'] = df[additional_services_cols].sum(axis=1)"
   ]
  },
  {
   "cell_type": "code",
   "execution_count": 24,
   "metadata": {
    "execution": {
     "iopub.execute_input": "2025-06-26T06:17:18.541261Z",
     "iopub.status.busy": "2025-06-26T06:17:18.540874Z",
     "iopub.status.idle": "2025-06-26T06:17:18.558144Z",
     "shell.execute_reply": "2025-06-26T06:17:18.557187Z",
     "shell.execute_reply.started": "2025-06-26T06:17:18.541214Z"
    },
    "trusted": true
   },
   "outputs": [],
   "source": [
    "bins = [0,12,100]\n",
    "labels = ['New Customers','Loyal Customers']\n",
    "df['Tenure Category'] = pd.cut(df['Tenure Months'], bins=bins, labels=labels, right=False)\n",
    "\n",
    "df = pd.get_dummies(df, columns=['Tenure Category'], drop_first=True)"
   ]
  },
  {
   "cell_type": "code",
   "execution_count": 25,
   "metadata": {
    "execution": {
     "iopub.execute_input": "2025-06-26T06:17:18.559580Z",
     "iopub.status.busy": "2025-06-26T06:17:18.559146Z",
     "iopub.status.idle": "2025-06-26T06:17:18.565891Z",
     "shell.execute_reply": "2025-06-26T06:17:18.564844Z",
     "shell.execute_reply.started": "2025-06-26T06:17:18.559559Z"
    },
    "trusted": true
   },
   "outputs": [],
   "source": [
    "df['Monthly Charges to Tenure Ratio'] = df['Monthly Charges'] / (df['Tenure Months'] + 1)"
   ]
  },
  {
   "cell_type": "code",
   "execution_count": 26,
   "metadata": {
    "execution": {
     "iopub.execute_input": "2025-06-26T06:17:18.567675Z",
     "iopub.status.busy": "2025-06-26T06:17:18.566883Z",
     "iopub.status.idle": "2025-06-26T06:17:18.590138Z",
     "shell.execute_reply": "2025-06-26T06:17:18.589105Z",
     "shell.execute_reply.started": "2025-06-26T06:17:18.567653Z"
    },
    "trusted": true
   },
   "outputs": [],
   "source": [
    "df['Has No Long Term Contract'] = (df['Contract'] == 'Month-to-month').astype(int)\n",
    "df = df.drop(columns=['Contract'])"
   ]
  },
  {
   "cell_type": "code",
   "execution_count": 27,
   "metadata": {
    "execution": {
     "iopub.execute_input": "2025-06-26T06:17:18.591357Z",
     "iopub.status.busy": "2025-06-26T06:17:18.591082Z",
     "iopub.status.idle": "2025-06-26T06:17:18.611278Z",
     "shell.execute_reply": "2025-06-26T06:17:18.610366Z",
     "shell.execute_reply.started": "2025-06-26T06:17:18.591336Z"
    },
    "trusted": true
   },
   "outputs": [],
   "source": [
    "manual_metode = ['Electronic check', 'Mailed check']\n",
    "df['Is Manual Payment'] = df['Payment Method'].isin(manual_metode).astype(int)\n",
    "\n",
    "df = df.drop(columns=['Payment Method'])"
   ]
  },
  {
   "cell_type": "code",
   "execution_count": 28,
   "metadata": {
    "execution": {
     "iopub.execute_input": "2025-06-26T06:17:18.612604Z",
     "iopub.status.busy": "2025-06-26T06:17:18.612262Z",
     "iopub.status.idle": "2025-06-26T06:17:18.635602Z",
     "shell.execute_reply": "2025-06-26T06:17:18.634512Z",
     "shell.execute_reply.started": "2025-06-26T06:17:18.612578Z"
    },
    "trusted": true
   },
   "outputs": [],
   "source": [
    "x = df.drop('Churn Value', axis=1)\n",
    "y = df['Churn Value']"
   ]
  },
  {
   "cell_type": "code",
   "execution_count": 29,
   "metadata": {
    "execution": {
     "iopub.execute_input": "2025-06-26T06:17:18.636983Z",
     "iopub.status.busy": "2025-06-26T06:17:18.636685Z",
     "iopub.status.idle": "2025-06-26T06:17:18.662668Z",
     "shell.execute_reply": "2025-06-26T06:17:18.661837Z",
     "shell.execute_reply.started": "2025-06-26T06:17:18.636964Z"
    },
    "trusted": true
   },
   "outputs": [],
   "source": [
    "x_train, x_test, y_train, y_test = train_test_split(\n",
    "    x,\n",
    "    y,\n",
    "    test_size=0.2,\n",
    "    random_state=42,\n",
    "    stratify=y\n",
    ")"
   ]
  },
  {
   "cell_type": "code",
   "execution_count": 30,
   "metadata": {
    "execution": {
     "iopub.execute_input": "2025-06-26T06:17:18.664172Z",
     "iopub.status.busy": "2025-06-26T06:17:18.663926Z",
     "iopub.status.idle": "2025-06-26T06:17:18.678208Z",
     "shell.execute_reply": "2025-06-26T06:17:18.677300Z",
     "shell.execute_reply.started": "2025-06-26T06:17:18.664154Z"
    },
    "trusted": true
   },
   "outputs": [
    {
     "data": {
      "text/html": [
       "<div>\n",
       "<style scoped>\n",
       "    .dataframe tbody tr th:only-of-type {\n",
       "        vertical-align: middle;\n",
       "    }\n",
       "\n",
       "    .dataframe tbody tr th {\n",
       "        vertical-align: top;\n",
       "    }\n",
       "\n",
       "    .dataframe thead th {\n",
       "        text-align: right;\n",
       "    }\n",
       "</style>\n",
       "<table border=\"1\" class=\"dataframe\">\n",
       "  <thead>\n",
       "    <tr style=\"text-align: right;\">\n",
       "      <th></th>\n",
       "      <th>0</th>\n",
       "      <th>1</th>\n",
       "      <th>2</th>\n",
       "      <th>3</th>\n",
       "      <th>4</th>\n",
       "    </tr>\n",
       "  </thead>\n",
       "  <tbody>\n",
       "    <tr>\n",
       "      <th>Senior Citizen</th>\n",
       "      <td>0</td>\n",
       "      <td>0</td>\n",
       "      <td>0</td>\n",
       "      <td>0</td>\n",
       "      <td>0</td>\n",
       "    </tr>\n",
       "    <tr>\n",
       "      <th>Partner</th>\n",
       "      <td>0</td>\n",
       "      <td>0</td>\n",
       "      <td>0</td>\n",
       "      <td>1</td>\n",
       "      <td>0</td>\n",
       "    </tr>\n",
       "    <tr>\n",
       "      <th>Dependents</th>\n",
       "      <td>0</td>\n",
       "      <td>1</td>\n",
       "      <td>1</td>\n",
       "      <td>1</td>\n",
       "      <td>1</td>\n",
       "    </tr>\n",
       "    <tr>\n",
       "      <th>Tenure Months</th>\n",
       "      <td>2</td>\n",
       "      <td>2</td>\n",
       "      <td>8</td>\n",
       "      <td>28</td>\n",
       "      <td>49</td>\n",
       "    </tr>\n",
       "    <tr>\n",
       "      <th>Paperless Billing</th>\n",
       "      <td>1</td>\n",
       "      <td>1</td>\n",
       "      <td>1</td>\n",
       "      <td>1</td>\n",
       "      <td>1</td>\n",
       "    </tr>\n",
       "    <tr>\n",
       "      <th>Monthly Charges</th>\n",
       "      <td>53.85</td>\n",
       "      <td>70.7</td>\n",
       "      <td>99.65</td>\n",
       "      <td>104.8</td>\n",
       "      <td>103.7</td>\n",
       "    </tr>\n",
       "    <tr>\n",
       "      <th>Churn Value</th>\n",
       "      <td>1</td>\n",
       "      <td>1</td>\n",
       "      <td>1</td>\n",
       "      <td>1</td>\n",
       "      <td>1</td>\n",
       "    </tr>\n",
       "    <tr>\n",
       "      <th>Internet Service_Fiber optic</th>\n",
       "      <td>False</td>\n",
       "      <td>True</td>\n",
       "      <td>True</td>\n",
       "      <td>True</td>\n",
       "      <td>True</td>\n",
       "    </tr>\n",
       "    <tr>\n",
       "      <th>Internet Service_No</th>\n",
       "      <td>False</td>\n",
       "      <td>False</td>\n",
       "      <td>False</td>\n",
       "      <td>False</td>\n",
       "      <td>False</td>\n",
       "    </tr>\n",
       "    <tr>\n",
       "      <th>Online Security_Yes</th>\n",
       "      <td>True</td>\n",
       "      <td>False</td>\n",
       "      <td>False</td>\n",
       "      <td>False</td>\n",
       "      <td>False</td>\n",
       "    </tr>\n",
       "    <tr>\n",
       "      <th>Online Backup_Yes</th>\n",
       "      <td>True</td>\n",
       "      <td>False</td>\n",
       "      <td>False</td>\n",
       "      <td>False</td>\n",
       "      <td>True</td>\n",
       "    </tr>\n",
       "    <tr>\n",
       "      <th>Device Protection_Yes</th>\n",
       "      <td>False</td>\n",
       "      <td>False</td>\n",
       "      <td>True</td>\n",
       "      <td>True</td>\n",
       "      <td>True</td>\n",
       "    </tr>\n",
       "    <tr>\n",
       "      <th>Tech Support_Yes</th>\n",
       "      <td>False</td>\n",
       "      <td>False</td>\n",
       "      <td>False</td>\n",
       "      <td>True</td>\n",
       "      <td>False</td>\n",
       "    </tr>\n",
       "    <tr>\n",
       "      <th>Streaming TV_Yes</th>\n",
       "      <td>False</td>\n",
       "      <td>False</td>\n",
       "      <td>True</td>\n",
       "      <td>True</td>\n",
       "      <td>True</td>\n",
       "    </tr>\n",
       "    <tr>\n",
       "      <th>Streaming Movies_Yes</th>\n",
       "      <td>False</td>\n",
       "      <td>False</td>\n",
       "      <td>True</td>\n",
       "      <td>True</td>\n",
       "      <td>True</td>\n",
       "    </tr>\n",
       "    <tr>\n",
       "      <th>Sum Of Additional Services</th>\n",
       "      <td>2</td>\n",
       "      <td>0</td>\n",
       "      <td>3</td>\n",
       "      <td>4</td>\n",
       "      <td>4</td>\n",
       "    </tr>\n",
       "    <tr>\n",
       "      <th>Tenure Category_Loyal Customers</th>\n",
       "      <td>False</td>\n",
       "      <td>False</td>\n",
       "      <td>False</td>\n",
       "      <td>True</td>\n",
       "      <td>True</td>\n",
       "    </tr>\n",
       "    <tr>\n",
       "      <th>Monthly Charges to Tenure Ratio</th>\n",
       "      <td>17.95</td>\n",
       "      <td>23.566667</td>\n",
       "      <td>11.072222</td>\n",
       "      <td>3.613793</td>\n",
       "      <td>2.074</td>\n",
       "    </tr>\n",
       "    <tr>\n",
       "      <th>Has No Long Term Contract</th>\n",
       "      <td>1</td>\n",
       "      <td>1</td>\n",
       "      <td>1</td>\n",
       "      <td>1</td>\n",
       "      <td>1</td>\n",
       "    </tr>\n",
       "    <tr>\n",
       "      <th>Is Manual Payment</th>\n",
       "      <td>1</td>\n",
       "      <td>1</td>\n",
       "      <td>1</td>\n",
       "      <td>1</td>\n",
       "      <td>0</td>\n",
       "    </tr>\n",
       "  </tbody>\n",
       "</table>\n",
       "</div>"
      ],
      "text/plain": [
       "                                     0          1          2         3      4\n",
       "Senior Citizen                       0          0          0         0      0\n",
       "Partner                              0          0          0         1      0\n",
       "Dependents                           0          1          1         1      1\n",
       "Tenure Months                        2          2          8        28     49\n",
       "Paperless Billing                    1          1          1         1      1\n",
       "Monthly Charges                  53.85       70.7      99.65     104.8  103.7\n",
       "Churn Value                          1          1          1         1      1\n",
       "Internet Service_Fiber optic     False       True       True      True   True\n",
       "Internet Service_No              False      False      False     False  False\n",
       "Online Security_Yes               True      False      False     False  False\n",
       "Online Backup_Yes                 True      False      False     False   True\n",
       "Device Protection_Yes            False      False       True      True   True\n",
       "Tech Support_Yes                 False      False      False      True  False\n",
       "Streaming TV_Yes                 False      False       True      True   True\n",
       "Streaming Movies_Yes             False      False       True      True   True\n",
       "Sum Of Additional Services           2          0          3         4      4\n",
       "Tenure Category_Loyal Customers  False      False      False      True   True\n",
       "Monthly Charges to Tenure Ratio  17.95  23.566667  11.072222  3.613793  2.074\n",
       "Has No Long Term Contract            1          1          1         1      1\n",
       "Is Manual Payment                    1          1          1         1      0"
      ]
     },
     "execution_count": 30,
     "metadata": {},
     "output_type": "execute_result"
    }
   ],
   "source": [
    "df.head().T"
   ]
  },
  {
   "cell_type": "code",
   "execution_count": 31,
   "metadata": {
    "execution": {
     "iopub.execute_input": "2025-06-26T06:17:18.679523Z",
     "iopub.status.busy": "2025-06-26T06:17:18.679172Z",
     "iopub.status.idle": "2025-06-26T06:17:18.705001Z",
     "shell.execute_reply": "2025-06-26T06:17:18.703857Z",
     "shell.execute_reply.started": "2025-06-26T06:17:18.679492Z"
    },
    "trusted": true
   },
   "outputs": [
    {
     "name": "stdout",
     "output_type": "stream",
     "text": [
      "<class 'pandas.core.frame.DataFrame'>\n",
      "RangeIndex: 7043 entries, 0 to 7042\n",
      "Data columns (total 20 columns):\n",
      " #   Column                           Non-Null Count  Dtype  \n",
      "---  ------                           --------------  -----  \n",
      " 0   Senior Citizen                   7043 non-null   int64  \n",
      " 1   Partner                          7043 non-null   int64  \n",
      " 2   Dependents                       7043 non-null   int64  \n",
      " 3   Tenure Months                    7043 non-null   int64  \n",
      " 4   Paperless Billing                7043 non-null   int64  \n",
      " 5   Monthly Charges                  7043 non-null   float64\n",
      " 6   Churn Value                      7043 non-null   int64  \n",
      " 7   Internet Service_Fiber optic     7043 non-null   bool   \n",
      " 8   Internet Service_No              7043 non-null   bool   \n",
      " 9   Online Security_Yes              7043 non-null   bool   \n",
      " 10  Online Backup_Yes                7043 non-null   bool   \n",
      " 11  Device Protection_Yes            7043 non-null   bool   \n",
      " 12  Tech Support_Yes                 7043 non-null   bool   \n",
      " 13  Streaming TV_Yes                 7043 non-null   bool   \n",
      " 14  Streaming Movies_Yes             7043 non-null   bool   \n",
      " 15  Sum Of Additional Services       7043 non-null   int64  \n",
      " 16  Tenure Category_Loyal Customers  7043 non-null   bool   \n",
      " 17  Monthly Charges to Tenure Ratio  7043 non-null   float64\n",
      " 18  Has No Long Term Contract        7043 non-null   int64  \n",
      " 19  Is Manual Payment                7043 non-null   int64  \n",
      "dtypes: bool(9), float64(2), int64(9)\n",
      "memory usage: 667.3 KB\n"
     ]
    }
   ],
   "source": [
    "df.info()"
   ]
  },
  {
   "cell_type": "code",
   "execution_count": 32,
   "metadata": {
    "execution": {
     "iopub.execute_input": "2025-06-26T06:17:18.706239Z",
     "iopub.status.busy": "2025-06-26T06:17:18.705924Z",
     "iopub.status.idle": "2025-06-26T06:17:18.745214Z",
     "shell.execute_reply": "2025-06-26T06:17:18.744352Z",
     "shell.execute_reply.started": "2025-06-26T06:17:18.706190Z"
    },
    "trusted": true
   },
   "outputs": [],
   "source": [
    "scaler = StandardScaler()\n",
    "x_train_scaled = scaler.fit_transform(x_train)\n",
    "x_test_scaled = scaler.fit_transform(x_test)"
   ]
  },
  {
   "cell_type": "code",
   "execution_count": 33,
   "metadata": {
    "execution": {
     "iopub.execute_input": "2025-06-26T06:17:18.746508Z",
     "iopub.status.busy": "2025-06-26T06:17:18.746181Z",
     "iopub.status.idle": "2025-06-26T06:17:18.784446Z",
     "shell.execute_reply": "2025-06-26T06:17:18.783742Z",
     "shell.execute_reply.started": "2025-06-26T06:17:18.746479Z"
    },
    "trusted": true
   },
   "outputs": [],
   "source": [
    "smote = SMOTE(random_state=42)\n",
    "x_train_resampled, y_train_resampled = smote.fit_resample(x_train_scaled, y_train)"
   ]
  },
  {
   "cell_type": "code",
   "execution_count": 34,
   "metadata": {
    "execution": {
     "iopub.execute_input": "2025-06-26T06:17:18.785681Z",
     "iopub.status.busy": "2025-06-26T06:17:18.785409Z",
     "iopub.status.idle": "2025-06-26T06:17:29.377119Z",
     "shell.execute_reply": "2025-06-26T06:17:29.376301Z",
     "shell.execute_reply.started": "2025-06-26T06:17:18.785660Z"
    },
    "trusted": true
   },
   "outputs": [
    {
     "name": "stderr",
     "output_type": "stream",
     "text": [
      "/usr/local/lib/python3.11/dist-packages/sklearn/utils/deprecation.py:151: FutureWarning: 'force_all_finite' was renamed to 'ensure_all_finite' in 1.6 and will be removed in 1.8.\n",
      "  warnings.warn(\n",
      "/usr/local/lib/python3.11/dist-packages/sklearn/utils/deprecation.py:151: FutureWarning: 'force_all_finite' was renamed to 'ensure_all_finite' in 1.6 and will be removed in 1.8.\n",
      "  warnings.warn(\n",
      "/usr/local/lib/python3.11/dist-packages/sklearn/utils/deprecation.py:151: FutureWarning: 'force_all_finite' was renamed to 'ensure_all_finite' in 1.6 and will be removed in 1.8.\n",
      "  warnings.warn(\n",
      "/usr/local/lib/python3.11/dist-packages/sklearn/utils/deprecation.py:151: FutureWarning: 'force_all_finite' was renamed to 'ensure_all_finite' in 1.6 and will be removed in 1.8.\n",
      "  warnings.warn(\n",
      "/usr/local/lib/python3.11/dist-packages/sklearn/utils/deprecation.py:151: FutureWarning: 'force_all_finite' was renamed to 'ensure_all_finite' in 1.6 and will be removed in 1.8.\n",
      "  warnings.warn(\n"
     ]
    },
    {
     "data": {
      "text/html": [
       "<div>\n",
       "<style scoped>\n",
       "    .dataframe tbody tr th:only-of-type {\n",
       "        vertical-align: middle;\n",
       "    }\n",
       "\n",
       "    .dataframe tbody tr th {\n",
       "        vertical-align: top;\n",
       "    }\n",
       "\n",
       "    .dataframe thead th {\n",
       "        text-align: right;\n",
       "    }\n",
       "</style>\n",
       "<table border=\"1\" class=\"dataframe\">\n",
       "  <thead>\n",
       "    <tr style=\"text-align: right;\">\n",
       "      <th></th>\n",
       "      <th>Model</th>\n",
       "      <th>Accuracy</th>\n",
       "      <th>Recall</th>\n",
       "      <th>Precision</th>\n",
       "      <th>F1 Score</th>\n",
       "    </tr>\n",
       "  </thead>\n",
       "  <tbody>\n",
       "    <tr>\n",
       "      <th>0</th>\n",
       "      <td>Logistic Regression</td>\n",
       "      <td>0.757984</td>\n",
       "      <td>0.767380</td>\n",
       "      <td>0.530499</td>\n",
       "      <td>0.627322</td>\n",
       "    </tr>\n",
       "    <tr>\n",
       "      <th>1</th>\n",
       "      <td>Random Forest</td>\n",
       "      <td>0.757984</td>\n",
       "      <td>0.748663</td>\n",
       "      <td>0.531309</td>\n",
       "      <td>0.621532</td>\n",
       "    </tr>\n",
       "    <tr>\n",
       "      <th>2</th>\n",
       "      <td>KNN</td>\n",
       "      <td>0.726047</td>\n",
       "      <td>0.700535</td>\n",
       "      <td>0.488806</td>\n",
       "      <td>0.575824</td>\n",
       "    </tr>\n",
       "    <tr>\n",
       "      <th>3</th>\n",
       "      <td>Decision Tree</td>\n",
       "      <td>0.650816</td>\n",
       "      <td>0.737968</td>\n",
       "      <td>0.411940</td>\n",
       "      <td>0.528736</td>\n",
       "    </tr>\n",
       "    <tr>\n",
       "      <th>4</th>\n",
       "      <td>AdaBoost Classifier</td>\n",
       "      <td>0.621008</td>\n",
       "      <td>0.898396</td>\n",
       "      <td>0.403846</td>\n",
       "      <td>0.557214</td>\n",
       "    </tr>\n",
       "    <tr>\n",
       "      <th>5</th>\n",
       "      <td>CatBoostClassifier</td>\n",
       "      <td>0.474805</td>\n",
       "      <td>0.986631</td>\n",
       "      <td>0.334239</td>\n",
       "      <td>0.499323</td>\n",
       "    </tr>\n",
       "    <tr>\n",
       "      <th>6</th>\n",
       "      <td>XGBClassifier</td>\n",
       "      <td>0.391767</td>\n",
       "      <td>0.986631</td>\n",
       "      <td>0.302211</td>\n",
       "      <td>0.462696</td>\n",
       "    </tr>\n",
       "    <tr>\n",
       "      <th>7</th>\n",
       "      <td>LGBMClassifier</td>\n",
       "      <td>0.343506</td>\n",
       "      <td>0.989305</td>\n",
       "      <td>0.286600</td>\n",
       "      <td>0.444444</td>\n",
       "    </tr>\n",
       "    <tr>\n",
       "      <th>8</th>\n",
       "      <td>Gradient Boosting Classifier</td>\n",
       "      <td>0.305181</td>\n",
       "      <td>0.994652</td>\n",
       "      <td>0.275760</td>\n",
       "      <td>0.431805</td>\n",
       "    </tr>\n",
       "  </tbody>\n",
       "</table>\n",
       "</div>"
      ],
      "text/plain": [
       "                          Model  Accuracy    Recall  Precision  F1 Score\n",
       "0           Logistic Regression  0.757984  0.767380   0.530499  0.627322\n",
       "1                 Random Forest  0.757984  0.748663   0.531309  0.621532\n",
       "2                           KNN  0.726047  0.700535   0.488806  0.575824\n",
       "3                 Decision Tree  0.650816  0.737968   0.411940  0.528736\n",
       "4           AdaBoost Classifier  0.621008  0.898396   0.403846  0.557214\n",
       "5            CatBoostClassifier  0.474805  0.986631   0.334239  0.499323\n",
       "6                 XGBClassifier  0.391767  0.986631   0.302211  0.462696\n",
       "7                LGBMClassifier  0.343506  0.989305   0.286600  0.444444\n",
       "8  Gradient Boosting Classifier  0.305181  0.994652   0.275760  0.431805"
      ]
     },
     "metadata": {},
     "output_type": "display_data"
    },
    {
     "name": "stdout",
     "output_type": "stream",
     "text": [
      "\n",
      "Best Model based on Accuracy: Logistic Regression\n",
      "Accuracy: 0.7580\n"
     ]
    }
   ],
   "source": [
    "models = [\n",
    "    ('Logistic Regression', LogisticRegression()),\n",
    "    ('Decision Tree', DecisionTreeClassifier()),\n",
    "    ('Random Forest', RandomForestClassifier()),\n",
    "    ('AdaBoost Classifier', AdaBoostClassifier()),\n",
    "    ('Gradient Boosting Classifier', GradientBoostingClassifier()),\n",
    "    ('XGBClassifier', XGBClassifier()),\n",
    "    ('LGBMClassifier', LGBMClassifier(verbose=-1)),\n",
    "    ('CatBoostClassifier', CatBoostClassifier(verbose=False)),\n",
    "    ('KNN', KNeighborsClassifier())\n",
    "]\n",
    "\n",
    "results = []\n",
    "for name, model in models:\n",
    "    model.fit(x_train_resampled, y_train_resampled)\n",
    "    \n",
    "    y_train_pred = model.predict(x_train_resampled)\n",
    "    y_test_pred = model.predict(x_test_scaled)\n",
    "    \n",
    "    train_score = model.score(x_train_resampled, y_train_resampled)\n",
    "    test_score = model.score(x_test_scaled, y_test)\n",
    "    \n",
    "    accuracy = accuracy_score(y_test, y_test_pred)\n",
    "    recall = recall_score(y_test, y_test_pred)\n",
    "    precision = precision_score(y_test, y_test_pred)\n",
    "    f1 = f1_score(y_test, y_test_pred)\n",
    "    confusion = confusion_matrix(y_test, y_test_pred)\n",
    "    \n",
    "    results.append({\n",
    "       'Model': name,\n",
    "        'Accuracy': accuracy,\n",
    "        'Recall': recall,\n",
    "        'Precision': precision,\n",
    "        'F1 Score': f1\n",
    "    })\n",
    "\n",
    "results_df = pd.DataFrame(results)\n",
    "results_df_sorted = results_df.sort_values(by='Accuracy', ascending=False).reset_index(drop=True)\n",
    "display(results_df_sorted)\n",
    "\n",
    "best_model_name = results_df_sorted.iloc[0]['Model']\n",
    "best_accuracy = results_df_sorted.iloc[0]['Accuracy']\n",
    "\n",
    "print(f\"\\nBest Model based on Accuracy: {best_model_name}\")\n",
    "print(f\"Accuracy: {best_accuracy:.4f}\")"
   ]
  },
  {
   "cell_type": "code",
   "execution_count": 35,
   "metadata": {
    "execution": {
     "iopub.execute_input": "2025-06-26T06:17:29.378176Z",
     "iopub.status.busy": "2025-06-26T06:17:29.377957Z",
     "iopub.status.idle": "2025-06-26T06:17:35.714699Z",
     "shell.execute_reply": "2025-06-26T06:17:35.713781Z",
     "shell.execute_reply.started": "2025-06-26T06:17:29.378159Z"
    },
    "trusted": true
   },
   "outputs": [
    {
     "name": "stdout",
     "output_type": "stream",
     "text": [
      "Fitting 5 folds for each of 28 candidates, totalling 140 fits\n",
      "\n",
      "Best parameters for Logistic Regression: {'C': 10, 'penalty': 'l2', 'solver': 'liblinear'}\n",
      "\n",
      "Tuned Logistic Regression Performance Results on Test Data:\n",
      "              precision    recall  f1-score   support\n",
      "\n",
      "           0       0.90      0.75      0.82      1035\n",
      "           1       0.53      0.77      0.63       374\n",
      "\n",
      "    accuracy                           0.76      1409\n",
      "   macro avg       0.72      0.76      0.72      1409\n",
      "weighted avg       0.80      0.76      0.77      1409\n",
      "\n",
      "Accuracy Score ANN on Test Data: 0.7580\n"
     ]
    }
   ],
   "source": [
    "param_grid_lr = {\n",
    "    'C': [0.001, 0.01, 0.1, 1, 10, 100, 1000],\n",
    "    'penalty': ['l1', 'l2'],\n",
    "    'solver': ['liblinear', 'saga']\n",
    "}\n",
    "\n",
    "lr_grid_search = GridSearchCV(\n",
    "    estimator=LogisticRegression(random_state=42, max_iter=2000),\n",
    "    param_grid=param_grid_lr,\n",
    "    scoring='accuracy',\n",
    "    cv=5,\n",
    "    verbose=1,\n",
    "    n_jobs=-1\n",
    ")\n",
    "\n",
    "lr_grid_search.fit(x_train_resampled, y_train_resampled)\n",
    "\n",
    "print(\"\\nBest parameters for Logistic Regression:\", lr_grid_search.best_params_)\n",
    "\n",
    "best_lr = lr_grid_search.best_estimator_\n",
    "\n",
    "y_pred_lr = best_lr.predict(x_test_scaled)\n",
    "\n",
    "print(\"\\nTuned Logistic Regression Performance Results on Test Data:\")\n",
    "print(classification_report(y_test, y_pred_lr))\n",
    "print(f\"Accuracy Score ANN on Test Data: {accuracy_score(y_test, y_pred_lr):.4f}\")"
   ]
  },
  {
   "cell_type": "markdown",
   "metadata": {},
   "source": [
    "# ANN"
   ]
  },
  {
   "cell_type": "code",
   "execution_count": 36,
   "metadata": {
    "execution": {
     "iopub.execute_input": "2025-06-26T06:17:35.715793Z",
     "iopub.status.busy": "2025-06-26T06:17:35.715556Z",
     "iopub.status.idle": "2025-06-26T06:17:35.723398Z",
     "shell.execute_reply": "2025-06-26T06:17:35.722129Z",
     "shell.execute_reply.started": "2025-06-26T06:17:35.715774Z"
    },
    "trusted": true
   },
   "outputs": [],
   "source": [
    "def build_model(hp):\n",
    "    model = Sequential()\n",
    "    \n",
    "    input_dim = x_train_resampled.shape[1]\n",
    "    model.add(Input(shape=(input_dim,)))\n",
    "\n",
    "    hp_units_1 = hp.Int('units_1', min_value=32, max_value=128, step=32)\n",
    "    model.add(Dense(units=hp_units_1, activation='relu'))\n",
    "\n",
    "    hp_dropout_1 = hp.Float('dropout_1', min_value=0.2, max_value=0.5, step=0.1)\n",
    "    model.add(Dropout(rate=hp_dropout_1))\n",
    "\n",
    "    hp_units_2 = hp.Int('units_2', min_value=16, max_value=64, step=16)\n",
    "    model.add(Dense(units=hp_units_2, activation='relu'))\n",
    "    \n",
    "    model.add(Dense(1, activation='sigmoid'))\n",
    "\n",
    "    hp_learning_rate = hp.Choice('learning_rate', values=[1e-2, 1e-3, 1e-4])\n",
    "\n",
    "    model.compile(\n",
    "        optimizer=Adam(learning_rate=hp_learning_rate),\n",
    "        loss='binary_crossentropy',\n",
    "        metrics=['accuracy','recall']\n",
    "    )\n",
    "    \n",
    "    return model"
   ]
  },
  {
   "cell_type": "code",
   "execution_count": null,
   "metadata": {
    "execution": {
     "iopub.execute_input": "2025-06-26T06:17:35.724806Z",
     "iopub.status.busy": "2025-06-26T06:17:35.724482Z",
     "iopub.status.idle": "2025-06-26T06:17:35.850347Z",
     "shell.execute_reply": "2025-06-26T06:17:35.849315Z",
     "shell.execute_reply.started": "2025-06-26T06:17:35.724778Z"
    },
    "trusted": true
   },
   "outputs": [
    {
     "name": "stderr",
     "output_type": "stream",
     "text": [
      "2025-06-26 06:17:35.749316: E external/local_xla/xla/stream_executor/cuda/cuda_driver.cc:152] failed call to cuInit: INTERNAL: CUDA error: Failed call to cuInit: UNKNOWN ERROR (303)\n"
     ]
    }
   ],
   "source": [
    "tuner = kt.RandomSearch(\n",
    "    build_model,\n",
    "    objective=kt.Objective(\"val_accuracy\", direction=\"max\"),\n",
    "    max_trials=20,\n",
    "    executions_per_trial=1,\n",
    "    directory='ann_tuning',\n",
    "    project_name='churn_prediction'\n",
    ")"
   ]
  },
  {
   "cell_type": "code",
   "execution_count": 38,
   "metadata": {
    "execution": {
     "iopub.execute_input": "2025-06-26T06:17:35.851349Z",
     "iopub.status.busy": "2025-06-26T06:17:35.851079Z",
     "iopub.status.idle": "2025-06-26T06:17:35.856250Z",
     "shell.execute_reply": "2025-06-26T06:17:35.855293Z",
     "shell.execute_reply.started": "2025-06-26T06:17:35.851329Z"
    },
    "trusted": true
   },
   "outputs": [],
   "source": [
    "early_stopping = EarlyStopping(monitor='val_accuracy', \n",
    "                              patience=10, \n",
    "                              restore_best_weights=True,\n",
    "                              verbose=1)"
   ]
  },
  {
   "cell_type": "code",
   "execution_count": 39,
   "metadata": {
    "execution": {
     "iopub.execute_input": "2025-06-26T06:17:35.858236Z",
     "iopub.status.busy": "2025-06-26T06:17:35.857604Z",
     "iopub.status.idle": "2025-06-26T06:24:36.741594Z",
     "shell.execute_reply": "2025-06-26T06:24:36.740503Z",
     "shell.execute_reply.started": "2025-06-26T06:17:35.858187Z"
    },
    "trusted": true
   },
   "outputs": [
    {
     "name": "stdout",
     "output_type": "stream",
     "text": [
      "Trial 20 Complete [00h 00m 35s]\n",
      "val_accuracy: 0.8756038546562195\n",
      "\n",
      "Best val_accuracy So Far: 0.8756038546562195\n",
      "Total elapsed time: 00h 07m 01s\n"
     ]
    }
   ],
   "source": [
    "tuner.search(\n",
    "    x_train_resampled, \n",
    "    y_train_resampled,\n",
    "    epochs=100,\n",
    "    validation_split=0.2,\n",
    "    callbacks=[early_stopping]\n",
    ")\n",
    "\n",
    "best_hps = tuner.get_best_hyperparameters(num_trials=1)[0]"
   ]
  },
  {
   "cell_type": "code",
   "execution_count": 40,
   "metadata": {
    "execution": {
     "iopub.execute_input": "2025-06-26T06:24:36.742820Z",
     "iopub.status.busy": "2025-06-26T06:24:36.742511Z",
     "iopub.status.idle": "2025-06-26T06:24:53.286339Z",
     "shell.execute_reply": "2025-06-26T06:24:53.285339Z",
     "shell.execute_reply.started": "2025-06-26T06:24:36.742799Z"
    },
    "trusted": true
   },
   "outputs": [
    {
     "name": "stdout",
     "output_type": "stream",
     "text": [
      "Epoch 20: early stopping\n",
      "Restoring model weights from the end of the best epoch: 10.\n"
     ]
    }
   ],
   "source": [
    "model = tuner.hypermodel.build(best_hps)\n",
    "\n",
    "history = model.fit(\n",
    "    x_train_resampled, \n",
    "    y_train_resampled,\n",
    "    epochs=100,\n",
    "    batch_size=32,\n",
    "    validation_data=(x_test_scaled, y_test),\n",
    "    callbacks=[early_stopping],\n",
    "    verbose=0\n",
    ")"
   ]
  },
  {
   "cell_type": "code",
   "execution_count": 41,
   "metadata": {
    "execution": {
     "iopub.execute_input": "2025-06-26T06:24:53.288151Z",
     "iopub.status.busy": "2025-06-26T06:24:53.287804Z",
     "iopub.status.idle": "2025-06-26T06:24:53.565050Z",
     "shell.execute_reply": "2025-06-26T06:24:53.564161Z",
     "shell.execute_reply.started": "2025-06-26T06:24:53.288119Z"
    },
    "trusted": true
   },
   "outputs": [
    {
     "name": "stdout",
     "output_type": "stream",
     "text": [
      "\u001b[1m45/45\u001b[0m \u001b[32m━━━━━━━━━━━━━━━━━━━━\u001b[0m\u001b[37m\u001b[0m \u001b[1m0s\u001b[0m 2ms/step\n"
     ]
    }
   ],
   "source": [
    "y_pred_proba = model.predict(x_test_scaled)"
   ]
  },
  {
   "cell_type": "code",
   "execution_count": 42,
   "metadata": {
    "execution": {
     "iopub.execute_input": "2025-06-26T06:24:53.566776Z",
     "iopub.status.busy": "2025-06-26T06:24:53.566431Z",
     "iopub.status.idle": "2025-06-26T06:24:53.863257Z",
     "shell.execute_reply": "2025-06-26T06:24:53.862214Z",
     "shell.execute_reply.started": "2025-06-26T06:24:53.566750Z"
    },
    "trusted": true
   },
   "outputs": [
    {
     "name": "stdout",
     "output_type": "stream",
     "text": [
      "Best Threshold for Accuracy: 0.7071\n",
      "Best Accuracy: 0.8006\n"
     ]
    },
    {
     "data": {
      "image/png": "[encoded data removed]",
      "text/plain": [
       "<Figure size 1000x600 with 1 Axes>"
      ]
     },
     "metadata": {},
     "output_type": "display_data"
    }
   ],
   "source": [
    "thresholds = np.linspace(0.0, 1.0, num=100)\n",
    "accuracies = []\n",
    "\n",
    "for thresh in thresholds:\n",
    "    y_pred_thresh = (y_pred_proba >= thresh).astype(int)\n",
    "    acc = accuracy_score(y_test, y_pred_thresh)\n",
    "    accuracies.append(acc)\n",
    "\n",
    "best_location = np.argmax(accuracies)\n",
    "best_threshold = thresholds[best_location]\n",
    "best_accuracy = accuracies[best_location]\n",
    "\n",
    "print(f\"Best Threshold for Accuracy: {best_threshold:.4f}\")\n",
    "print(f\"Best Accuracy: {best_accuracy:.4f}\")\n",
    "\n",
    "plt.figure(figsize=(10, 6))\n",
    "plt.plot(thresholds, accuracies, 'm-', label='Accuracy', linewidth=2)\n",
    "plt.axvline(x=best_threshold, color='k', linestyle='--', label=f'Optimal Threshold ({best_threshold:.2f})')\n",
    "\n",
    "plt.title('Accuracy vs. Threshold')\n",
    "plt.xlabel('Threshold')\n",
    "plt.ylabel('Accuracy')\n",
    "plt.legend(loc='best')\n",
    "plt.grid(True)\n",
    "plt.show()"
   ]
  },
  {
   "cell_type": "code",
   "execution_count": 43,
   "metadata": {
    "execution": {
     "iopub.execute_input": "2025-06-26T06:24:53.864766Z",
     "iopub.status.busy": "2025-06-26T06:24:53.864430Z",
     "iopub.status.idle": "2025-06-26T06:24:53.871655Z",
     "shell.execute_reply": "2025-06-26T06:24:53.870897Z",
     "shell.execute_reply.started": "2025-06-26T06:24:53.864738Z"
    },
    "trusted": true
   },
   "outputs": [
    {
     "name": "stdout",
     "output_type": "stream",
     "text": [
      "Accuracy Score ANN on Test Data: 0.8006\n"
     ]
    }
   ],
   "source": [
    "y_pred_ann = (y_pred_proba > best_threshold).astype(int)\n",
    "\n",
    "accuracy_ann = accuracy_score(y_test, y_pred_ann)\n",
    "print(f\"Accuracy Score ANN on Test Data: {accuracy_ann:.4f}\")"
   ]
  },
  {
   "cell_type": "code",
   "execution_count": 44,
   "metadata": {
    "execution": {
     "iopub.execute_input": "2025-06-26T06:24:53.872689Z",
     "iopub.status.busy": "2025-06-26T06:24:53.872372Z",
     "iopub.status.idle": "2025-06-26T06:24:53.925049Z",
     "shell.execute_reply": "2025-06-26T06:24:53.924352Z",
     "shell.execute_reply.started": "2025-06-26T06:24:53.872669Z"
    },
    "trusted": true
   },
   "outputs": [],
   "source": [
    "file_name = 'model.keras'\n",
    "\n",
    "model.save(file_name)"
   ]
  }
 ],
 "metadata": {
  "kaggle": {
   "accelerator": "none",
   "dataSources": [
    {
     "datasetId": 5855544,
     "sourceId": 9598780,
     "sourceType": "datasetVersion"
    }
   ],
   "dockerImageVersionId": 31040,
   "isGpuEnabled": false,
   "isInternetEnabled": true,
   "language": "python",
   "sourceType": "notebook"
  },
  "kernelspec": {
   "display_name": "Python 3",
   "language": "python",
   "name": "python3"
  },
  "language_info": {
   "codemirror_mode": {
    "name": "ipython",
    "version": 3
   },
   "file_extension": ".py",
   "mimetype": "text/x-python",
   "name": "python",
   "nbconvert_exporter": "python",
   "pygments_lexer": "ipython3",
   "version": "3.11.11"
  }
 },
 "nbformat": 4,
 "nbformat_minor": 4
}
